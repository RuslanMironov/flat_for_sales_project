{
 "cells": [
  {
   "cell_type": "markdown",
   "id": "90fb0c7d",
   "metadata": {
    "toc": true
   },
   "source": [
    "<h1>Содержание<span class=\"tocSkip\"></span></h1>\n",
    "<div class=\"toc\"><ul class=\"toc-item\"><li><span><a href=\"#Описание-проекта\" data-toc-modified-id=\"Описание-проекта-1\"><span class=\"toc-item-num\">1&nbsp;&nbsp;</span>Описание проекта</a></span></li><li><span><a href=\"#Описание-данных\" data-toc-modified-id=\"Описание-данных-2\"><span class=\"toc-item-num\">2&nbsp;&nbsp;</span>Описание данных</a></span></li><li><span><a href=\"#Предобработка-данных\" data-toc-modified-id=\"Предобработка-данных-3\"><span class=\"toc-item-num\">3&nbsp;&nbsp;</span>Предобработка данных</a></span><ul class=\"toc-item\"><li><span><a href=\"#Смотрим-общую-информацию-и-чистим--данные\" data-toc-modified-id=\"Смотрим-общую-информацию-и-чистим--данные-3.1\"><span class=\"toc-item-num\">3.1&nbsp;&nbsp;</span>Смотрим общую информацию и чистим  данные</a></span><ul class=\"toc-item\"><li><span><a href=\"#Напишем-функцию-для-просмотра-общей-информации\" data-toc-modified-id=\"Напишем-функцию-для-просмотра-общей-информации-3.1.1\"><span class=\"toc-item-num\">3.1.1&nbsp;&nbsp;</span>Напишем функцию для просмотра общей информации</a></span></li><li><span><a href=\"#Построим-гистограммы\" data-toc-modified-id=\"Построим-гистограммы-3.1.2\"><span class=\"toc-item-num\">3.1.2&nbsp;&nbsp;</span>Построим гистограммы</a></span></li><li><span><a href=\"#Вывод\" data-toc-modified-id=\"Вывод-3.1.3\"><span class=\"toc-item-num\">3.1.3&nbsp;&nbsp;</span>Вывод</a></span></li></ul></li><li><span><a href=\"#Заполним-пропущенные-значения\" data-toc-modified-id=\"Заполним-пропущенные-значения-3.2\"><span class=\"toc-item-num\">3.2&nbsp;&nbsp;</span>Заполним пропущенные значения</a></span><ul class=\"toc-item\"><li><span><a href=\"#Вывод\" data-toc-modified-id=\"Вывод-3.2.1\"><span class=\"toc-item-num\">3.2.1&nbsp;&nbsp;</span>Вывод</a></span></li></ul></li><li><span><a href=\"#Заменяем-тип-данных\" data-toc-modified-id=\"Заменяем-тип-данных-3.3\"><span class=\"toc-item-num\">3.3&nbsp;&nbsp;</span>Заменяем тип данных</a></span><ul class=\"toc-item\"><li><span><a href=\"#Вывод\" data-toc-modified-id=\"Вывод-3.3.1\"><span class=\"toc-item-num\">3.3.1&nbsp;&nbsp;</span>Вывод</a></span></li></ul></li><li><span><a href=\"#Обрабатываем-дубликаты\" data-toc-modified-id=\"Обрабатываем-дубликаты-3.4\"><span class=\"toc-item-num\">3.4&nbsp;&nbsp;</span>Обрабатываем дубликаты</a></span><ul class=\"toc-item\"><li><span><a href=\"#Функция-по-замене-дубликатов\" data-toc-modified-id=\"Функция-по-замене-дубликатов-3.4.1\"><span class=\"toc-item-num\">3.4.1&nbsp;&nbsp;</span>Функция по замене дубликатов</a></span></li></ul></li><li><span><a href=\"#Заменяем-аномальные-значения\" data-toc-modified-id=\"Заменяем-аномальные-значения-3.5\"><span class=\"toc-item-num\">3.5&nbsp;&nbsp;</span>Заменяем аномальные значения</a></span><ul class=\"toc-item\"><li><span><a href=\"#Вывод\" data-toc-modified-id=\"Вывод-3.5.1\"><span class=\"toc-item-num\">3.5.1&nbsp;&nbsp;</span>Вывод</a></span></li><li><span><a href=\"#Вызов-функции-df_info\" data-toc-modified-id=\"Вызов-функции-df_info-3.5.2\"><span class=\"toc-item-num\">3.5.2&nbsp;&nbsp;</span>Вызов функции df_info</a></span></li></ul></li><li><span><a href=\"#Категоризуем-данные\" data-toc-modified-id=\"Категоризуем-данные-3.6\"><span class=\"toc-item-num\">3.6&nbsp;&nbsp;</span>Категоризуем данные</a></span></li></ul></li><li><span><a href=\"#Исследовательский-анализ-данных\" data-toc-modified-id=\"Исследовательский-анализ-данных-4\"><span class=\"toc-item-num\">4&nbsp;&nbsp;</span>Исследовательский анализ данных</a></span><ul class=\"toc-item\"><li><span><a href=\"#Изучим-как-быстро-продавались-квартиры\" data-toc-modified-id=\"Изучим-как-быстро-продавались-квартиры-4.1\"><span class=\"toc-item-num\">4.1&nbsp;&nbsp;</span>Изучим как быстро продавались квартиры</a></span><ul class=\"toc-item\"><li><span><a href=\"#Вывод\" data-toc-modified-id=\"Вывод-4.1.1\"><span class=\"toc-item-num\">4.1.1&nbsp;&nbsp;</span>Вывод</a></span></li></ul></li><li><span><a href=\"#Узнаем-какие-факторы-больше-всего-влияют-на-общую-(полную)-стоимость-объекта\" data-toc-modified-id=\"Узнаем-какие-факторы-больше-всего-влияют-на-общую-(полную)-стоимость-объекта-4.2\"><span class=\"toc-item-num\">4.2&nbsp;&nbsp;</span>Узнаем какие факторы больше всего влияют на общую (полную) стоимость объекта</a></span><ul class=\"toc-item\"><li><span><a href=\"#Определяем-зависит-ли-цена-от-общей-площади-квартиры\" data-toc-modified-id=\"Определяем-зависит-ли-цена-от-общей-площади-квартиры-4.2.1\"><span class=\"toc-item-num\">4.2.1&nbsp;&nbsp;</span>Определяем зависит ли цена от общей площади квартиры</a></span></li><li><span><a href=\"#Определяем-зависит-ли-цена-от-жилой-площади-квартиры\" data-toc-modified-id=\"Определяем-зависит-ли-цена-от-жилой-площади-квартиры-4.2.2\"><span class=\"toc-item-num\">4.2.2&nbsp;&nbsp;</span>Определяем зависит ли цена от жилой площади квартиры</a></span></li><li><span><a href=\"#Определяем-зависит-ли-цена-от-площади-кухни-квартиры\" data-toc-modified-id=\"Определяем-зависит-ли-цена-от-площади-кухни-квартиры-4.2.3\"><span class=\"toc-item-num\">4.2.3&nbsp;&nbsp;</span>Определяем зависит ли цена от площади кухни квартиры</a></span></li><li><span><a href=\"#Определяем-зависит-ли-цена-от-количества-комнат-квартиры\" data-toc-modified-id=\"Определяем-зависит-ли-цена-от-количества-комнат-квартиры-4.2.4\"><span class=\"toc-item-num\">4.2.4&nbsp;&nbsp;</span>Определяем зависит ли цена от количества комнат квартиры</a></span></li><li><span><a href=\"#Определяем-зависит-ли-цена-от-этажа-на-котором-расположена-квартира\" data-toc-modified-id=\"Определяем-зависит-ли-цена-от-этажа-на-котором-расположена-квартира-4.2.5\"><span class=\"toc-item-num\">4.2.5&nbsp;&nbsp;</span>Определяем зависит ли цена от этажа на котором расположена квартира</a></span></li><li><span><a href=\"#Определяем-зависит-ли-цена-от-дня,-недели,-месяца-и-года-публикации\" data-toc-modified-id=\"Определяем-зависит-ли-цена-от-дня,-недели,-месяца-и-года-публикации-4.2.6\"><span class=\"toc-item-num\">4.2.6&nbsp;&nbsp;</span>Определяем зависит ли цена от дня, недели, месяца и года публикации</a></span></li></ul></li><li><span><a href=\"#Посчитаем-среднюю-цену-одного-квадратного-метра-в-10-населённых-пунктах-с-наибольшим-числом-объявлений.\" data-toc-modified-id=\"Посчитаем-среднюю-цену-одного-квадратного-метра-в-10-населённых-пунктах-с-наибольшим-числом-объявлений.-4.3\"><span class=\"toc-item-num\">4.3&nbsp;&nbsp;</span>Посчитаем среднюю цену одного квадратного метра в 10 населённых пунктах с наибольшим числом объявлений.</a></span><ul class=\"toc-item\"><li><span><a href=\"#Считаем-количество-обьявлений-по-населеным-пунктам\" data-toc-modified-id=\"Считаем-количество-обьявлений-по-населеным-пунктам-4.3.1\"><span class=\"toc-item-num\">4.3.1&nbsp;&nbsp;</span>Считаем количество обьявлений по населеным пунктам</a></span></li><li><span><a href=\"#Считаем-среднюю-стоимость-квадратного-метра-по-населенным-пунктам\" data-toc-modified-id=\"Считаем-среднюю-стоимость-квадратного-метра-по-населенным-пунктам-4.3.2\"><span class=\"toc-item-num\">4.3.2&nbsp;&nbsp;</span>Считаем среднюю стоимость квадратного метра по населенным пунктам</a></span></li><li><span><a href=\"#Обьеденяем-полученные-данные-в-один-датафрейм\" data-toc-modified-id=\"Обьеденяем-полученные-данные-в-один-датафрейм-4.3.3\"><span class=\"toc-item-num\">4.3.3&nbsp;&nbsp;</span>Обьеденяем полученные данные в один датафрейм</a></span></li></ul></li><li><span><a href=\"#Вычислим-среднюю-цену-каждого-километра\" data-toc-modified-id=\"Вычислим-среднюю-цену-каждого-километра-4.4\"><span class=\"toc-item-num\">4.4&nbsp;&nbsp;</span>Вычислим среднюю цену каждого километра</a></span><ul class=\"toc-item\"><li><span><a href=\"#Отбираем-квартиры-в-Санкт-Петербурге\" data-toc-modified-id=\"Отбираем-квартиры-в-Санкт-Петербурге-4.4.1\"><span class=\"toc-item-num\">4.4.1&nbsp;&nbsp;</span>Отбираем квартиры в Санкт-Петербурге</a></span></li><li><span><a href=\"#Счаитем-цену-каждого-киллометра-от-центра\" data-toc-modified-id=\"Счаитем-цену-каждого-киллометра-от-центра-4.4.2\"><span class=\"toc-item-num\">4.4.2&nbsp;&nbsp;</span>Счаитем цену каждого киллометра от центра</a></span></li></ul></li></ul></li><li><span><a href=\"#Общий-вывод\" data-toc-modified-id=\"Общий-вывод-5\"><span class=\"toc-item-num\">5&nbsp;&nbsp;</span>Общий вывод</a></span></li></ul></div>"
   ]
  },
  {
   "cell_type": "markdown",
   "id": "1c6cdfd6",
   "metadata": {},
   "source": [
    "# Описание проекта\n",
    "\n",
    "В нашем распоряжении данные сервиса о недвижимости — архив объявлений о продаже квартир в Санкт-Петербурге и соседних населённых пунктов за несколько лет. Прие исследовании объявлений о продаже квартир нужно определить рыночную стоимость объектов недвижимости. Ваша задача — установить параметры. Это позволит построить автоматизированную систему: она отследит аномалии и мошенническую деятельность. \n",
    "\n",
    "По каждой квартире на продажу доступны два вида данных. Первые вписаны пользователем, вторые — получены автоматически на основе картографических данных. Например, расстояние до центра, аэропорта, ближайшего парка и водоёма. "
   ]
  },
  {
   "cell_type": "markdown",
   "id": "dc72e9d7",
   "metadata": {},
   "source": [
    "# Описание данных"
   ]
  },
  {
   "cell_type": "markdown",
   "id": "61d45cde",
   "metadata": {},
   "source": [
    "- airports_nearest — расстояние до ближайшего аэропорта в метрах (м)\n",
    "- balcony — число балконов\n",
    "- ceiling_height — высота потолков (м)\n",
    "- cityCenters_nearest — расстояние до центра города (м)\n",
    "- days_exposition — сколько дней было размещено объявление (от публикации до снятия)\n",
    "- first_day_exposition — дата публикации\n",
    "- floor — этаж\n",
    "- floors_total — всего этажей в доме\n",
    "- is_apartment — апартаменты (булев тип)\n",
    "- kitchen_area — площадь кухни в квадратных метрах (м²)\n",
    "- last_price — цена на момент снятия с публикации\n",
    "- living_area — жилая площадь в квадратных метрах (м²)\n",
    "- locality_name — название населённого пункта\n",
    "- open_plan — свободная планировка (булев тип)\n",
    "- parks_around3000 — число парков в радиусе 3 км\n",
    "- parks_nearest — расстояние до ближайшего парка (м)\n",
    "- ponds_around3000 — число водоёмов в радиусе 3 км\n",
    "- ponds_nearest — расстояние до ближайшего водоёма (м)\n",
    "- rooms — число комнат\n",
    "- studio — квартира-студия (булев тип)\n",
    "- total_area — общая площадь квартиры в квадратных метрах (м²)\n",
    "- total_images — число фотографий квартиры в объявлении"
   ]
  },
  {
   "cell_type": "markdown",
   "id": "eb53bc1f",
   "metadata": {},
   "source": [
    "# Предобработка данных"
   ]
  },
  {
   "cell_type": "markdown",
   "id": "61695df3",
   "metadata": {},
   "source": [
    "*Импортируем необходимые библиотеки. Считаем данные из csv-файла в датафрейм и сохраним в переменную data*"
   ]
  },
  {
   "cell_type": "code",
   "execution_count": 55,
   "id": "906e2772",
   "metadata": {},
   "outputs": [],
   "source": [
    "import pandas as pd\n",
    "from io import BytesIO\n",
    "import requests"
   ]
  },
  {
   "cell_type": "code",
   "execution_count": 56,
   "id": "a77424c3",
   "metadata": {},
   "outputs": [],
   "source": [
    "try:\n",
    "    data = pd.read_csv('file:///Users/nastinpupochek/Downloads/real_estate_data.csv', sep='\\t')\n",
    "except: \n",
    "    spreadsheet_id = '1RsXwRC31IYjyjZNWNA8hGBJWarYSzmD-nsfj3fR0e4w'\n",
    "    file_name = 'https://docs.google.com/spreadsheets/d/{}/export?format=csv'.format(spreadsheet_id)\n",
    "    r = requests.get(file_name)\n",
    "    data = pd.read_csv(BytesIO(r.content), sep='\\t')"
   ]
  },
  {
   "cell_type": "markdown",
   "id": "4afb6284",
   "metadata": {},
   "source": [
    "## Смотрим общую информацию и чистим  данные"
   ]
  },
  {
   "cell_type": "markdown",
   "id": "e6e5456e",
   "metadata": {},
   "source": [
    "###  Напишем функцию для просмотра общей информации"
   ]
  },
  {
   "cell_type": "code",
   "execution_count": 57,
   "id": "1ab64d6c",
   "metadata": {},
   "outputs": [
    {
     "data": {
      "text/html": [
       "<div>\n",
       "<style scoped>\n",
       "    .dataframe tbody tr th:only-of-type {\n",
       "        vertical-align: middle;\n",
       "    }\n",
       "\n",
       "    .dataframe tbody tr th {\n",
       "        vertical-align: top;\n",
       "    }\n",
       "\n",
       "    .dataframe thead th {\n",
       "        text-align: right;\n",
       "    }\n",
       "</style>\n",
       "<table border=\"1\" class=\"dataframe\">\n",
       "  <thead>\n",
       "    <tr style=\"text-align: right;\">\n",
       "      <th></th>\n",
       "      <th>total_images</th>\n",
       "      <th>last_price</th>\n",
       "      <th>total_area</th>\n",
       "      <th>first_day_exposition</th>\n",
       "      <th>rooms</th>\n",
       "      <th>ceiling_height</th>\n",
       "      <th>floors_total</th>\n",
       "      <th>living_area</th>\n",
       "      <th>floor</th>\n",
       "      <th>is_apartment</th>\n",
       "      <th>...</th>\n",
       "      <th>kitchen_area</th>\n",
       "      <th>balcony</th>\n",
       "      <th>locality_name</th>\n",
       "      <th>airports_nearest</th>\n",
       "      <th>cityCenters_nearest</th>\n",
       "      <th>parks_around3000</th>\n",
       "      <th>parks_nearest</th>\n",
       "      <th>ponds_around3000</th>\n",
       "      <th>ponds_nearest</th>\n",
       "      <th>days_exposition</th>\n",
       "    </tr>\n",
       "  </thead>\n",
       "  <tbody>\n",
       "    <tr>\n",
       "      <th>0</th>\n",
       "      <td>20</td>\n",
       "      <td>13000000.0</td>\n",
       "      <td>108.00</td>\n",
       "      <td>2019-03-07T00:00:00</td>\n",
       "      <td>3</td>\n",
       "      <td>2.70</td>\n",
       "      <td>16.0</td>\n",
       "      <td>51.0</td>\n",
       "      <td>8</td>\n",
       "      <td>NaN</td>\n",
       "      <td>...</td>\n",
       "      <td>25.00</td>\n",
       "      <td>NaN</td>\n",
       "      <td>Санкт-Петербург</td>\n",
       "      <td>18863.0</td>\n",
       "      <td>16028.0</td>\n",
       "      <td>1.0</td>\n",
       "      <td>482.0</td>\n",
       "      <td>2.0</td>\n",
       "      <td>755.0</td>\n",
       "      <td>NaN</td>\n",
       "    </tr>\n",
       "    <tr>\n",
       "      <th>1</th>\n",
       "      <td>7</td>\n",
       "      <td>3350000.0</td>\n",
       "      <td>40.40</td>\n",
       "      <td>2018-12-04T00:00:00</td>\n",
       "      <td>1</td>\n",
       "      <td>NaN</td>\n",
       "      <td>11.0</td>\n",
       "      <td>18.6</td>\n",
       "      <td>1</td>\n",
       "      <td>NaN</td>\n",
       "      <td>...</td>\n",
       "      <td>11.00</td>\n",
       "      <td>2.0</td>\n",
       "      <td>посёлок Шушары</td>\n",
       "      <td>12817.0</td>\n",
       "      <td>18603.0</td>\n",
       "      <td>0.0</td>\n",
       "      <td>NaN</td>\n",
       "      <td>0.0</td>\n",
       "      <td>NaN</td>\n",
       "      <td>81.0</td>\n",
       "    </tr>\n",
       "    <tr>\n",
       "      <th>2</th>\n",
       "      <td>10</td>\n",
       "      <td>5196000.0</td>\n",
       "      <td>56.00</td>\n",
       "      <td>2015-08-20T00:00:00</td>\n",
       "      <td>2</td>\n",
       "      <td>NaN</td>\n",
       "      <td>5.0</td>\n",
       "      <td>34.3</td>\n",
       "      <td>4</td>\n",
       "      <td>NaN</td>\n",
       "      <td>...</td>\n",
       "      <td>8.30</td>\n",
       "      <td>0.0</td>\n",
       "      <td>Санкт-Петербург</td>\n",
       "      <td>21741.0</td>\n",
       "      <td>13933.0</td>\n",
       "      <td>1.0</td>\n",
       "      <td>90.0</td>\n",
       "      <td>2.0</td>\n",
       "      <td>574.0</td>\n",
       "      <td>558.0</td>\n",
       "    </tr>\n",
       "    <tr>\n",
       "      <th>3</th>\n",
       "      <td>0</td>\n",
       "      <td>64900000.0</td>\n",
       "      <td>159.00</td>\n",
       "      <td>2015-07-24T00:00:00</td>\n",
       "      <td>3</td>\n",
       "      <td>NaN</td>\n",
       "      <td>14.0</td>\n",
       "      <td>NaN</td>\n",
       "      <td>9</td>\n",
       "      <td>NaN</td>\n",
       "      <td>...</td>\n",
       "      <td>NaN</td>\n",
       "      <td>0.0</td>\n",
       "      <td>Санкт-Петербург</td>\n",
       "      <td>28098.0</td>\n",
       "      <td>6800.0</td>\n",
       "      <td>2.0</td>\n",
       "      <td>84.0</td>\n",
       "      <td>3.0</td>\n",
       "      <td>234.0</td>\n",
       "      <td>424.0</td>\n",
       "    </tr>\n",
       "    <tr>\n",
       "      <th>4</th>\n",
       "      <td>2</td>\n",
       "      <td>10000000.0</td>\n",
       "      <td>100.00</td>\n",
       "      <td>2018-06-19T00:00:00</td>\n",
       "      <td>2</td>\n",
       "      <td>3.03</td>\n",
       "      <td>14.0</td>\n",
       "      <td>32.0</td>\n",
       "      <td>13</td>\n",
       "      <td>NaN</td>\n",
       "      <td>...</td>\n",
       "      <td>41.00</td>\n",
       "      <td>NaN</td>\n",
       "      <td>Санкт-Петербург</td>\n",
       "      <td>31856.0</td>\n",
       "      <td>8098.0</td>\n",
       "      <td>2.0</td>\n",
       "      <td>112.0</td>\n",
       "      <td>1.0</td>\n",
       "      <td>48.0</td>\n",
       "      <td>121.0</td>\n",
       "    </tr>\n",
       "    <tr>\n",
       "      <th>...</th>\n",
       "      <td>...</td>\n",
       "      <td>...</td>\n",
       "      <td>...</td>\n",
       "      <td>...</td>\n",
       "      <td>...</td>\n",
       "      <td>...</td>\n",
       "      <td>...</td>\n",
       "      <td>...</td>\n",
       "      <td>...</td>\n",
       "      <td>...</td>\n",
       "      <td>...</td>\n",
       "      <td>...</td>\n",
       "      <td>...</td>\n",
       "      <td>...</td>\n",
       "      <td>...</td>\n",
       "      <td>...</td>\n",
       "      <td>...</td>\n",
       "      <td>...</td>\n",
       "      <td>...</td>\n",
       "      <td>...</td>\n",
       "      <td>...</td>\n",
       "    </tr>\n",
       "    <tr>\n",
       "      <th>23694</th>\n",
       "      <td>9</td>\n",
       "      <td>9700000.0</td>\n",
       "      <td>133.81</td>\n",
       "      <td>2017-03-21T00:00:00</td>\n",
       "      <td>3</td>\n",
       "      <td>3.70</td>\n",
       "      <td>5.0</td>\n",
       "      <td>73.3</td>\n",
       "      <td>3</td>\n",
       "      <td>NaN</td>\n",
       "      <td>...</td>\n",
       "      <td>13.83</td>\n",
       "      <td>NaN</td>\n",
       "      <td>Санкт-Петербург</td>\n",
       "      <td>24665.0</td>\n",
       "      <td>4232.0</td>\n",
       "      <td>1.0</td>\n",
       "      <td>796.0</td>\n",
       "      <td>3.0</td>\n",
       "      <td>381.0</td>\n",
       "      <td>NaN</td>\n",
       "    </tr>\n",
       "    <tr>\n",
       "      <th>23695</th>\n",
       "      <td>14</td>\n",
       "      <td>3100000.0</td>\n",
       "      <td>59.00</td>\n",
       "      <td>2018-01-15T00:00:00</td>\n",
       "      <td>3</td>\n",
       "      <td>NaN</td>\n",
       "      <td>5.0</td>\n",
       "      <td>38.0</td>\n",
       "      <td>4</td>\n",
       "      <td>NaN</td>\n",
       "      <td>...</td>\n",
       "      <td>8.50</td>\n",
       "      <td>NaN</td>\n",
       "      <td>Тосно</td>\n",
       "      <td>NaN</td>\n",
       "      <td>NaN</td>\n",
       "      <td>NaN</td>\n",
       "      <td>NaN</td>\n",
       "      <td>NaN</td>\n",
       "      <td>NaN</td>\n",
       "      <td>45.0</td>\n",
       "    </tr>\n",
       "    <tr>\n",
       "      <th>23696</th>\n",
       "      <td>18</td>\n",
       "      <td>2500000.0</td>\n",
       "      <td>56.70</td>\n",
       "      <td>2018-02-11T00:00:00</td>\n",
       "      <td>2</td>\n",
       "      <td>NaN</td>\n",
       "      <td>3.0</td>\n",
       "      <td>29.7</td>\n",
       "      <td>1</td>\n",
       "      <td>NaN</td>\n",
       "      <td>...</td>\n",
       "      <td>NaN</td>\n",
       "      <td>NaN</td>\n",
       "      <td>село Рождествено</td>\n",
       "      <td>NaN</td>\n",
       "      <td>NaN</td>\n",
       "      <td>NaN</td>\n",
       "      <td>NaN</td>\n",
       "      <td>NaN</td>\n",
       "      <td>NaN</td>\n",
       "      <td>NaN</td>\n",
       "    </tr>\n",
       "    <tr>\n",
       "      <th>23697</th>\n",
       "      <td>13</td>\n",
       "      <td>11475000.0</td>\n",
       "      <td>76.75</td>\n",
       "      <td>2017-03-28T00:00:00</td>\n",
       "      <td>2</td>\n",
       "      <td>3.00</td>\n",
       "      <td>17.0</td>\n",
       "      <td>NaN</td>\n",
       "      <td>12</td>\n",
       "      <td>NaN</td>\n",
       "      <td>...</td>\n",
       "      <td>23.30</td>\n",
       "      <td>2.0</td>\n",
       "      <td>Санкт-Петербург</td>\n",
       "      <td>39140.0</td>\n",
       "      <td>10364.0</td>\n",
       "      <td>2.0</td>\n",
       "      <td>173.0</td>\n",
       "      <td>3.0</td>\n",
       "      <td>196.0</td>\n",
       "      <td>602.0</td>\n",
       "    </tr>\n",
       "    <tr>\n",
       "      <th>23698</th>\n",
       "      <td>4</td>\n",
       "      <td>1350000.0</td>\n",
       "      <td>32.30</td>\n",
       "      <td>2017-07-21T00:00:00</td>\n",
       "      <td>1</td>\n",
       "      <td>2.50</td>\n",
       "      <td>5.0</td>\n",
       "      <td>12.3</td>\n",
       "      <td>1</td>\n",
       "      <td>NaN</td>\n",
       "      <td>...</td>\n",
       "      <td>9.00</td>\n",
       "      <td>NaN</td>\n",
       "      <td>поселок Новый Учхоз</td>\n",
       "      <td>NaN</td>\n",
       "      <td>NaN</td>\n",
       "      <td>NaN</td>\n",
       "      <td>NaN</td>\n",
       "      <td>NaN</td>\n",
       "      <td>NaN</td>\n",
       "      <td>NaN</td>\n",
       "    </tr>\n",
       "  </tbody>\n",
       "</table>\n",
       "<p>23699 rows × 22 columns</p>\n",
       "</div>"
      ],
      "text/plain": [
       "       total_images  last_price  total_area first_day_exposition  rooms  \\\n",
       "0                20  13000000.0      108.00  2019-03-07T00:00:00      3   \n",
       "1                 7   3350000.0       40.40  2018-12-04T00:00:00      1   \n",
       "2                10   5196000.0       56.00  2015-08-20T00:00:00      2   \n",
       "3                 0  64900000.0      159.00  2015-07-24T00:00:00      3   \n",
       "4                 2  10000000.0      100.00  2018-06-19T00:00:00      2   \n",
       "...             ...         ...         ...                  ...    ...   \n",
       "23694             9   9700000.0      133.81  2017-03-21T00:00:00      3   \n",
       "23695            14   3100000.0       59.00  2018-01-15T00:00:00      3   \n",
       "23696            18   2500000.0       56.70  2018-02-11T00:00:00      2   \n",
       "23697            13  11475000.0       76.75  2017-03-28T00:00:00      2   \n",
       "23698             4   1350000.0       32.30  2017-07-21T00:00:00      1   \n",
       "\n",
       "       ceiling_height  floors_total  living_area  floor is_apartment  ...  \\\n",
       "0                2.70          16.0         51.0      8          NaN  ...   \n",
       "1                 NaN          11.0         18.6      1          NaN  ...   \n",
       "2                 NaN           5.0         34.3      4          NaN  ...   \n",
       "3                 NaN          14.0          NaN      9          NaN  ...   \n",
       "4                3.03          14.0         32.0     13          NaN  ...   \n",
       "...               ...           ...          ...    ...          ...  ...   \n",
       "23694            3.70           5.0         73.3      3          NaN  ...   \n",
       "23695             NaN           5.0         38.0      4          NaN  ...   \n",
       "23696             NaN           3.0         29.7      1          NaN  ...   \n",
       "23697            3.00          17.0          NaN     12          NaN  ...   \n",
       "23698            2.50           5.0         12.3      1          NaN  ...   \n",
       "\n",
       "       kitchen_area  balcony        locality_name  airports_nearest  \\\n",
       "0             25.00      NaN      Санкт-Петербург           18863.0   \n",
       "1             11.00      2.0       посёлок Шушары           12817.0   \n",
       "2              8.30      0.0      Санкт-Петербург           21741.0   \n",
       "3               NaN      0.0      Санкт-Петербург           28098.0   \n",
       "4             41.00      NaN      Санкт-Петербург           31856.0   \n",
       "...             ...      ...                  ...               ...   \n",
       "23694         13.83      NaN      Санкт-Петербург           24665.0   \n",
       "23695          8.50      NaN                Тосно               NaN   \n",
       "23696           NaN      NaN     село Рождествено               NaN   \n",
       "23697         23.30      2.0      Санкт-Петербург           39140.0   \n",
       "23698          9.00      NaN  поселок Новый Учхоз               NaN   \n",
       "\n",
       "      cityCenters_nearest  parks_around3000  parks_nearest  ponds_around3000  \\\n",
       "0                 16028.0               1.0          482.0               2.0   \n",
       "1                 18603.0               0.0            NaN               0.0   \n",
       "2                 13933.0               1.0           90.0               2.0   \n",
       "3                  6800.0               2.0           84.0               3.0   \n",
       "4                  8098.0               2.0          112.0               1.0   \n",
       "...                   ...               ...            ...               ...   \n",
       "23694              4232.0               1.0          796.0               3.0   \n",
       "23695                 NaN               NaN            NaN               NaN   \n",
       "23696                 NaN               NaN            NaN               NaN   \n",
       "23697             10364.0               2.0          173.0               3.0   \n",
       "23698                 NaN               NaN            NaN               NaN   \n",
       "\n",
       "       ponds_nearest  days_exposition  \n",
       "0              755.0              NaN  \n",
       "1                NaN             81.0  \n",
       "2              574.0            558.0  \n",
       "3              234.0            424.0  \n",
       "4               48.0            121.0  \n",
       "...              ...              ...  \n",
       "23694          381.0              NaN  \n",
       "23695            NaN             45.0  \n",
       "23696            NaN              NaN  \n",
       "23697          196.0            602.0  \n",
       "23698            NaN              NaN  \n",
       "\n",
       "[23699 rows x 22 columns]"
      ]
     },
     "metadata": {},
     "output_type": "display_data"
    },
    {
     "name": "stdout",
     "output_type": "stream",
     "text": [
      "Количество строк: 23699\n",
      "\n",
      "Количество пропущенных значений: \n",
      "total_images                0\n",
      "last_price                  0\n",
      "total_area                  0\n",
      "first_day_exposition        0\n",
      "rooms                       0\n",
      "ceiling_height           9195\n",
      "floors_total               86\n",
      "living_area              1903\n",
      "floor                       0\n",
      "is_apartment            20924\n",
      "studio                      0\n",
      "open_plan                   0\n",
      "kitchen_area             2278\n",
      "balcony                 11519\n",
      "locality_name              49\n",
      "airports_nearest         5542\n",
      "cityCenters_nearest      5519\n",
      "parks_around3000         5518\n",
      "parks_nearest           15620\n",
      "ponds_around3000         5518\n",
      "ponds_nearest           14589\n",
      "days_exposition          3181\n",
      "dtype: int64\n",
      "\n",
      "Типы данных в столбцах: \n",
      "total_images              int64\n",
      "last_price              float64\n",
      "total_area              float64\n",
      "first_day_exposition     object\n",
      "rooms                     int64\n",
      "ceiling_height          float64\n",
      "floors_total            float64\n",
      "living_area             float64\n",
      "floor                     int64\n",
      "is_apartment             object\n",
      "studio                     bool\n",
      "open_plan                  bool\n",
      "kitchen_area            float64\n",
      "balcony                 float64\n",
      "locality_name            object\n",
      "airports_nearest        float64\n",
      "cityCenters_nearest     float64\n",
      "parks_around3000        float64\n",
      "parks_nearest           float64\n",
      "ponds_around3000        float64\n",
      "ponds_nearest           float64\n",
      "days_exposition         float64\n",
      "dtype: object\n",
      "\n",
      "Количество дубликатов: \n",
      "0\n"
     ]
    },
    {
     "data": {
      "text/plain": [
       "<function __main__.df_info(df)>"
      ]
     },
     "execution_count": 57,
     "metadata": {},
     "output_type": "execute_result"
    }
   ],
   "source": [
    "def df_info(df):\n",
    "    display(df)\n",
    "    print(f'Количество строк: {df.shape[0]}')\n",
    "    print(f'\\nКоличество пропущенных значений: \\n{df.isna().sum()}')\n",
    "    print(f'\\nТипы данных в столбцах: \\n{df.dtypes}')\n",
    "    print(f'\\nКоличество дубликатов: \\n{df.duplicated().sum()}')\n",
    "    return df_info\n",
    "df_info(data)"
   ]
  },
  {
   "cell_type": "markdown",
   "id": "a17c77d7",
   "metadata": {},
   "source": [
    "### Построим гистограммы"
   ]
  },
  {
   "cell_type": "code",
   "execution_count": 58,
   "id": "7da1dfcf",
   "metadata": {},
   "outputs": [
    {
     "data": {
      "image/png": "[encoded data removed]",
      "text/plain": [
       "<Figure size 1080x1440 with 20 Axes>"
      ]
     },
     "metadata": {
      "needs_background": "light"
     },
     "output_type": "display_data"
    }
   ],
   "source": [
    "data.hist(figsize=(15,20));"
   ]
  },
  {
   "cell_type": "markdown",
   "id": "52929875",
   "metadata": {},
   "source": [
    "### Вывод"
   ]
  },
  {
   "cell_type": "markdown",
   "id": "93f366a9",
   "metadata": {},
   "source": [
    "*При первоначальном изучении данных, заметили 14 столбцов с пропущенными значениями. Так же уже видны столбцы, где нужно будет поменять тип данных, например столбец с датой, и столбцы с данными float. Видны значительные выбросы на нулевых значениях, например  в столбце ceiling_height, last_price, is_apartment. Так же нужно будет избавить от дубликатов. Название столбцов корректное.*"
   ]
  },
  {
   "cell_type": "markdown",
   "id": "53b3602e",
   "metadata": {},
   "source": [
    "## Заполним пропущенные значения"
   ]
  },
  {
   "cell_type": "markdown",
   "id": "43a2372f",
   "metadata": {},
   "source": [
    "*Пропущенные значения в столбце balcony, скорее всего пропуски означают отсутсвие балконов.*"
   ]
  },
  {
   "cell_type": "code",
   "execution_count": 59,
   "id": "9f61dc2a",
   "metadata": {},
   "outputs": [],
   "source": [
    "data['balcony'] = data['balcony'].fillna(0)"
   ]
  },
  {
   "cell_type": "markdown",
   "id": "0742d982",
   "metadata": {},
   "source": [
    "*Добавим средние значения в столбцы общей площади, площади кухни и высоту потолков, ориентируясь по количествам комнат в квартире.*"
   ]
  },
  {
   "cell_type": "code",
   "execution_count": 60,
   "id": "260e61e7",
   "metadata": {},
   "outputs": [],
   "source": [
    "data['living_area'] = (data['living_area'].fillna(data.groupby('rooms')['living_area'].transform('mean'))).round()\n",
    "data['kitchen_area'] = (data['kitchen_area'].fillna(data.groupby('rooms')['kitchen_area'].transform('mean'))).round()\n",
    "data['kitchen_area'] = data['kitchen_area'].fillna(0)\n",
    "data['ceiling_height'] = (data['ceiling_height'].fillna(data.groupby('rooms')['ceiling_height'].transform('mean'))).round()"
   ]
  },
  {
   "cell_type": "markdown",
   "id": "ed048a85",
   "metadata": {},
   "source": [
    "*Заменим пропущенные значения на пустые строки в столбце locality_name и is_apartment, так как восстановить или заменить их мы не можем.*"
   ]
  },
  {
   "cell_type": "code",
   "execution_count": 61,
   "id": "194971f2",
   "metadata": {},
   "outputs": [],
   "source": [
    "data.locality_name = data.locality_name.fillna('')\n",
    "data.is_apartment = data.is_apartment.fillna('')"
   ]
  },
  {
   "cell_type": "markdown",
   "id": "7e6cb810",
   "metadata": {},
   "source": [
    "*Удалим пропущенные значения из столбцов в которых нельзя заменять на другие данные*"
   ]
  },
  {
   "cell_type": "code",
   "execution_count": 62,
   "id": "e576ce36",
   "metadata": {},
   "outputs": [],
   "source": [
    "data.dropna(subset=['airports_nearest', 'cityCenters_nearest', 'parks_around3000', \n",
    "                    'ponds_around3000', 'days_exposition', 'floors_total'],inplace=True)"
   ]
  },
  {
   "cell_type": "code",
   "execution_count": 63,
   "id": "d6198746",
   "metadata": {},
   "outputs": [],
   "source": [
    "data = data[data.locality_name != 0]"
   ]
  },
  {
   "cell_type": "markdown",
   "id": "bd020b04",
   "metadata": {},
   "source": [
    "*Обновим индексы*"
   ]
  },
  {
   "cell_type": "code",
   "execution_count": 64,
   "id": "696d5bf2",
   "metadata": {},
   "outputs": [],
   "source": [
    "data = data.reset_index(drop=True)"
   ]
  },
  {
   "cell_type": "markdown",
   "id": "2baa6e7a",
   "metadata": {},
   "source": [
    "### Вывод"
   ]
  },
  {
   "cell_type": "markdown",
   "id": "6231eccc",
   "metadata": {},
   "source": [
    "*Пропуски в данных можно отнести к категории Missing Not At Random. Причиной могла быть как человеческий фактор, так и ошибка в автоматическом заполнении. Удаление таких данных может привезти к искаженным результатам.*"
   ]
  },
  {
   "cell_type": "markdown",
   "id": "0b716072",
   "metadata": {},
   "source": [
    "## Заменяем тип данных"
   ]
  },
  {
   "cell_type": "markdown",
   "id": "4f162c05",
   "metadata": {},
   "source": [
    "*Проверим столбцы на типы данных. Преобразуем тип данных в выбранных столбцах.*"
   ]
  },
  {
   "cell_type": "code",
   "execution_count": 65,
   "id": "f6fbedb6",
   "metadata": {},
   "outputs": [],
   "source": [
    "data['first_day_exposition'] = pd.to_datetime(data['first_day_exposition'], format=\"%Y/%m/%dT%H:%M:%S\")"
   ]
  },
  {
   "cell_type": "code",
   "execution_count": 66,
   "id": "cada4bc7",
   "metadata": {},
   "outputs": [],
   "source": [
    "data = data.astype({'last_price': 'int64',\n",
    "           'last_price': 'int64',\n",
    "           'floor': 'int64',\n",
    "           'floors_total': 'int64',\n",
    "           'rooms': 'int64'})"
   ]
  },
  {
   "cell_type": "markdown",
   "id": "082ee31e",
   "metadata": {},
   "source": [
    "### Вывод"
   ]
  },
  {
   "cell_type": "markdown",
   "id": "452a2566",
   "metadata": {},
   "source": [
    "*Для более удобной и точной работой с датами преобразовали столбец first_day_exposition в формат datetime64. Так же преобразовали столбцы с вещественными числами на целые, так как в этих столбцах нет необходимости в формате float.*"
   ]
  },
  {
   "cell_type": "markdown",
   "id": "059c6db4",
   "metadata": {},
   "source": [
    "## Обрабатываем дубликаты"
   ]
  },
  {
   "cell_type": "markdown",
   "id": "8b39bbce",
   "metadata": {},
   "source": [
    "*Исправим повторы в названиях населенных пунктов*"
   ]
  },
  {
   "cell_type": "markdown",
   "id": "9b96927c",
   "metadata": {},
   "source": [
    "### Функция по замене дубликатов"
   ]
  },
  {
   "cell_type": "code",
   "execution_count": 68,
   "id": "60acda3f",
   "metadata": {},
   "outputs": [],
   "source": [
    "drop_name =  ['городской посёлок ', 'типа' 'городской поселок ', 'деревня ', 'коттеджный посёлок ', 'коттеджный поселок ', 'посёлок ', \n",
    "              'поселок ','поселок городского типа ', 'посёлок городского типа ' , 'посёлок при железнодорожной станции ', \n",
    "              'посёлок станции ', 'садоводческое некоммерческое товарищество ', 'садовое товарищество ', 'село ', 'городского типа', \n",
    "              'городской посёлок', 'типагородской поселок', 'станции']\n",
    "def locality_name_correct(locality_name):\n",
    "    for i in drop_name:\n",
    "        if i in locality_name:\n",
    "            return locality_name.replace(i, '')\n",
    "    return locality_name\n",
    "\n",
    "data['locality_name_correct'] = data.locality_name.apply(locality_name_correct)\n"
   ]
  },
  {
   "cell_type": "markdown",
   "id": "5473056c",
   "metadata": {},
   "source": [
    "## Заменяем аномальные значения"
   ]
  },
  {
   "cell_type": "markdown",
   "id": "bf1b13bd",
   "metadata": {},
   "source": [
    "*Удаляем значения превышающие 3000м*"
   ]
  },
  {
   "cell_type": "code",
   "execution_count": 70,
   "id": "dabb4f39",
   "metadata": {},
   "outputs": [],
   "source": [
    "data[data.parks_nearest > 3000] = 0"
   ]
  },
  {
   "cell_type": "markdown",
   "id": "02cbc1e2",
   "metadata": {},
   "source": [
    "*Удаляем данные которые полностью пустые, а так же выбросы по total_area*"
   ]
  },
  {
   "cell_type": "code",
   "execution_count": 69,
   "id": "1102142f",
   "metadata": {},
   "outputs": [],
   "source": [
    "data = data[(data.total_area != 0) & (data.total_area < 200) & (data.total_area > 15)]"
   ]
  },
  {
   "cell_type": "markdown",
   "id": "e694ee4f",
   "metadata": {},
   "source": [
    "*Удаляем аномальные цены с last price*"
   ]
  },
  {
   "cell_type": "code",
   "execution_count": 72,
   "id": "ff3468f5",
   "metadata": {},
   "outputs": [],
   "source": [
    "data = data[data.last_price > 45]"
   ]
  },
  {
   "cell_type": "markdown",
   "id": "a51ed0c0",
   "metadata": {},
   "source": [
    "*Округлим значения в столбце total_area*"
   ]
  },
  {
   "cell_type": "code",
   "execution_count": 74,
   "id": "ca978c74",
   "metadata": {},
   "outputs": [],
   "source": [
    "data.total_area = data.total_area.round()"
   ]
  },
  {
   "cell_type": "markdown",
   "id": "4be9640d",
   "metadata": {},
   "source": [
    "*Удаляем выбросы в ceiling_height*"
   ]
  },
  {
   "cell_type": "code",
   "execution_count": 75,
   "id": "050fecee",
   "metadata": {},
   "outputs": [],
   "source": [
    "data = data[(data.ceiling_height > 2.1) & (data.ceiling_height < 4.7)]"
   ]
  },
  {
   "cell_type": "markdown",
   "id": "12b92288",
   "metadata": {},
   "source": [
    "*Удаляем данные с высоким этажем*"
   ]
  },
  {
   "cell_type": "code",
   "execution_count": 76,
   "id": "97438807",
   "metadata": {},
   "outputs": [],
   "source": [
    "data = data[data.floor < 25]"
   ]
  },
  {
   "cell_type": "markdown",
   "id": "ee03a856",
   "metadata": {},
   "source": [
    "### Вывод"
   ]
  },
  {
   "cell_type": "markdown",
   "id": "2c616614",
   "metadata": {},
   "source": [
    "*Были найдены некорректные значения в days_exposition, число имело большое колличество чисел после запятой, а так же в столбце parks_nearest были записаны расстояния больше 3000м, которые не подходят по условию фильтра обьявлений.*\n",
    "\n",
    "*Убрали выделяющиеся значения общей площади, которые больше 200кв/м и слишком маленькие 10кв/м.\n",
    "Избавились от аномальных значений в ceiling_height, не учитываем высоту потолка ниже 2х метров и выше 4,7\n",
    "А так же количество этажей в зданнии сократили до 25*"
   ]
  },
  {
   "cell_type": "markdown",
   "id": "b366a2c1",
   "metadata": {},
   "source": [
    "### Вызов функции df_info"
   ]
  },
  {
   "cell_type": "markdown",
   "id": "a856803c",
   "metadata": {},
   "source": [
    "*Проверяем еще раз наш датасет, вызвав функцию df_info*"
   ]
  },
  {
   "cell_type": "code",
   "execution_count": 77,
   "id": "e8d37260",
   "metadata": {},
   "outputs": [
    {
     "data": {
      "text/html": [
       "<div>\n",
       "<style scoped>\n",
       "    .dataframe tbody tr th:only-of-type {\n",
       "        vertical-align: middle;\n",
       "    }\n",
       "\n",
       "    .dataframe tbody tr th {\n",
       "        vertical-align: top;\n",
       "    }\n",
       "\n",
       "    .dataframe thead th {\n",
       "        text-align: right;\n",
       "    }\n",
       "</style>\n",
       "<table border=\"1\" class=\"dataframe\">\n",
       "  <thead>\n",
       "    <tr style=\"text-align: right;\">\n",
       "      <th></th>\n",
       "      <th>total_images</th>\n",
       "      <th>last_price</th>\n",
       "      <th>total_area</th>\n",
       "      <th>first_day_exposition</th>\n",
       "      <th>rooms</th>\n",
       "      <th>ceiling_height</th>\n",
       "      <th>floors_total</th>\n",
       "      <th>living_area</th>\n",
       "      <th>floor</th>\n",
       "      <th>is_apartment</th>\n",
       "      <th>...</th>\n",
       "      <th>balcony</th>\n",
       "      <th>locality_name</th>\n",
       "      <th>airports_nearest</th>\n",
       "      <th>cityCenters_nearest</th>\n",
       "      <th>parks_around3000</th>\n",
       "      <th>parks_nearest</th>\n",
       "      <th>ponds_around3000</th>\n",
       "      <th>ponds_nearest</th>\n",
       "      <th>days_exposition</th>\n",
       "      <th>locality_name_correct</th>\n",
       "    </tr>\n",
       "  </thead>\n",
       "  <tbody>\n",
       "    <tr>\n",
       "      <th>0</th>\n",
       "      <td>7</td>\n",
       "      <td>3350000</td>\n",
       "      <td>40.0</td>\n",
       "      <td>2018-12-04 00:00:00</td>\n",
       "      <td>1</td>\n",
       "      <td>3.0</td>\n",
       "      <td>11</td>\n",
       "      <td>19.0</td>\n",
       "      <td>1</td>\n",
       "      <td></td>\n",
       "      <td>...</td>\n",
       "      <td>2.0</td>\n",
       "      <td>посёлок Шушары</td>\n",
       "      <td>12817.0</td>\n",
       "      <td>18603.0</td>\n",
       "      <td>0.0</td>\n",
       "      <td>NaN</td>\n",
       "      <td>0.0</td>\n",
       "      <td>NaN</td>\n",
       "      <td>81.0</td>\n",
       "      <td>Шушары</td>\n",
       "    </tr>\n",
       "    <tr>\n",
       "      <th>1</th>\n",
       "      <td>10</td>\n",
       "      <td>5196000</td>\n",
       "      <td>56.0</td>\n",
       "      <td>2015-08-20 00:00:00</td>\n",
       "      <td>2</td>\n",
       "      <td>3.0</td>\n",
       "      <td>5</td>\n",
       "      <td>34.0</td>\n",
       "      <td>4</td>\n",
       "      <td></td>\n",
       "      <td>...</td>\n",
       "      <td>0.0</td>\n",
       "      <td>Санкт-Петербург</td>\n",
       "      <td>21741.0</td>\n",
       "      <td>13933.0</td>\n",
       "      <td>1.0</td>\n",
       "      <td>90.0</td>\n",
       "      <td>2.0</td>\n",
       "      <td>574.0</td>\n",
       "      <td>558.0</td>\n",
       "      <td>Санкт-Петербург</td>\n",
       "    </tr>\n",
       "    <tr>\n",
       "      <th>2</th>\n",
       "      <td>0</td>\n",
       "      <td>64900000</td>\n",
       "      <td>159.0</td>\n",
       "      <td>2015-07-24 00:00:00</td>\n",
       "      <td>3</td>\n",
       "      <td>3.0</td>\n",
       "      <td>14</td>\n",
       "      <td>47.0</td>\n",
       "      <td>9</td>\n",
       "      <td></td>\n",
       "      <td>...</td>\n",
       "      <td>0.0</td>\n",
       "      <td>Санкт-Петербург</td>\n",
       "      <td>28098.0</td>\n",
       "      <td>6800.0</td>\n",
       "      <td>2.0</td>\n",
       "      <td>84.0</td>\n",
       "      <td>3.0</td>\n",
       "      <td>234.0</td>\n",
       "      <td>424.0</td>\n",
       "      <td>Санкт-Петербург</td>\n",
       "    </tr>\n",
       "    <tr>\n",
       "      <th>3</th>\n",
       "      <td>2</td>\n",
       "      <td>10000000</td>\n",
       "      <td>100.0</td>\n",
       "      <td>2018-06-19 00:00:00</td>\n",
       "      <td>2</td>\n",
       "      <td>3.0</td>\n",
       "      <td>14</td>\n",
       "      <td>32.0</td>\n",
       "      <td>13</td>\n",
       "      <td></td>\n",
       "      <td>...</td>\n",
       "      <td>0.0</td>\n",
       "      <td>Санкт-Петербург</td>\n",
       "      <td>31856.0</td>\n",
       "      <td>8098.0</td>\n",
       "      <td>2.0</td>\n",
       "      <td>112.0</td>\n",
       "      <td>1.0</td>\n",
       "      <td>48.0</td>\n",
       "      <td>121.0</td>\n",
       "      <td>Санкт-Петербург</td>\n",
       "    </tr>\n",
       "    <tr>\n",
       "      <th>4</th>\n",
       "      <td>6</td>\n",
       "      <td>3700000</td>\n",
       "      <td>37.0</td>\n",
       "      <td>2017-11-02 00:00:00</td>\n",
       "      <td>1</td>\n",
       "      <td>3.0</td>\n",
       "      <td>26</td>\n",
       "      <td>11.0</td>\n",
       "      <td>6</td>\n",
       "      <td></td>\n",
       "      <td>...</td>\n",
       "      <td>1.0</td>\n",
       "      <td>посёлок Парголово</td>\n",
       "      <td>52996.0</td>\n",
       "      <td>19143.0</td>\n",
       "      <td>0.0</td>\n",
       "      <td>NaN</td>\n",
       "      <td>0.0</td>\n",
       "      <td>NaN</td>\n",
       "      <td>155.0</td>\n",
       "      <td>Парголово</td>\n",
       "    </tr>\n",
       "    <tr>\n",
       "      <th>...</th>\n",
       "      <td>...</td>\n",
       "      <td>...</td>\n",
       "      <td>...</td>\n",
       "      <td>...</td>\n",
       "      <td>...</td>\n",
       "      <td>...</td>\n",
       "      <td>...</td>\n",
       "      <td>...</td>\n",
       "      <td>...</td>\n",
       "      <td>...</td>\n",
       "      <td>...</td>\n",
       "      <td>...</td>\n",
       "      <td>...</td>\n",
       "      <td>...</td>\n",
       "      <td>...</td>\n",
       "      <td>...</td>\n",
       "      <td>...</td>\n",
       "      <td>...</td>\n",
       "      <td>...</td>\n",
       "      <td>...</td>\n",
       "      <td>...</td>\n",
       "    </tr>\n",
       "    <tr>\n",
       "      <th>15770</th>\n",
       "      <td>13</td>\n",
       "      <td>3550000</td>\n",
       "      <td>35.0</td>\n",
       "      <td>2018-02-28 00:00:00</td>\n",
       "      <td>1</td>\n",
       "      <td>3.0</td>\n",
       "      <td>15</td>\n",
       "      <td>16.0</td>\n",
       "      <td>4</td>\n",
       "      <td></td>\n",
       "      <td>...</td>\n",
       "      <td>2.0</td>\n",
       "      <td>Санкт-Петербург</td>\n",
       "      <td>17284.0</td>\n",
       "      <td>16081.0</td>\n",
       "      <td>1.0</td>\n",
       "      <td>353.0</td>\n",
       "      <td>2.0</td>\n",
       "      <td>652.0</td>\n",
       "      <td>29.0</td>\n",
       "      <td>Санкт-Петербург</td>\n",
       "    </tr>\n",
       "    <tr>\n",
       "      <th>15771</th>\n",
       "      <td>3</td>\n",
       "      <td>5500000</td>\n",
       "      <td>52.0</td>\n",
       "      <td>2018-07-19 00:00:00</td>\n",
       "      <td>2</td>\n",
       "      <td>3.0</td>\n",
       "      <td>5</td>\n",
       "      <td>31.0</td>\n",
       "      <td>2</td>\n",
       "      <td></td>\n",
       "      <td>...</td>\n",
       "      <td>0.0</td>\n",
       "      <td>Санкт-Петербург</td>\n",
       "      <td>20151.0</td>\n",
       "      <td>6263.0</td>\n",
       "      <td>1.0</td>\n",
       "      <td>300.0</td>\n",
       "      <td>0.0</td>\n",
       "      <td>NaN</td>\n",
       "      <td>15.0</td>\n",
       "      <td>Санкт-Петербург</td>\n",
       "    </tr>\n",
       "    <tr>\n",
       "      <th>15772</th>\n",
       "      <td>11</td>\n",
       "      <td>9470000</td>\n",
       "      <td>73.0</td>\n",
       "      <td>2016-10-13 00:00:00</td>\n",
       "      <td>2</td>\n",
       "      <td>3.0</td>\n",
       "      <td>25</td>\n",
       "      <td>40.0</td>\n",
       "      <td>7</td>\n",
       "      <td></td>\n",
       "      <td>...</td>\n",
       "      <td>1.0</td>\n",
       "      <td>Санкт-Петербург</td>\n",
       "      <td>19424.0</td>\n",
       "      <td>4489.0</td>\n",
       "      <td>0.0</td>\n",
       "      <td>NaN</td>\n",
       "      <td>1.0</td>\n",
       "      <td>806.0</td>\n",
       "      <td>519.0</td>\n",
       "      <td>Санкт-Петербург</td>\n",
       "    </tr>\n",
       "    <tr>\n",
       "      <th>15773</th>\n",
       "      <td>9</td>\n",
       "      <td>4600000</td>\n",
       "      <td>62.0</td>\n",
       "      <td>2016-08-05 00:00:00</td>\n",
       "      <td>3</td>\n",
       "      <td>3.0</td>\n",
       "      <td>9</td>\n",
       "      <td>40.0</td>\n",
       "      <td>8</td>\n",
       "      <td></td>\n",
       "      <td>...</td>\n",
       "      <td>0.0</td>\n",
       "      <td>Петергоф</td>\n",
       "      <td>45602.0</td>\n",
       "      <td>34104.0</td>\n",
       "      <td>1.0</td>\n",
       "      <td>352.0</td>\n",
       "      <td>1.0</td>\n",
       "      <td>675.0</td>\n",
       "      <td>239.0</td>\n",
       "      <td>Петергоф</td>\n",
       "    </tr>\n",
       "    <tr>\n",
       "      <th>15774</th>\n",
       "      <td>13</td>\n",
       "      <td>11475000</td>\n",
       "      <td>77.0</td>\n",
       "      <td>2017-03-28 00:00:00</td>\n",
       "      <td>2</td>\n",
       "      <td>3.0</td>\n",
       "      <td>17</td>\n",
       "      <td>32.0</td>\n",
       "      <td>12</td>\n",
       "      <td></td>\n",
       "      <td>...</td>\n",
       "      <td>2.0</td>\n",
       "      <td>Санкт-Петербург</td>\n",
       "      <td>39140.0</td>\n",
       "      <td>10364.0</td>\n",
       "      <td>2.0</td>\n",
       "      <td>173.0</td>\n",
       "      <td>3.0</td>\n",
       "      <td>196.0</td>\n",
       "      <td>602.0</td>\n",
       "      <td>Санкт-Петербург</td>\n",
       "    </tr>\n",
       "  </tbody>\n",
       "</table>\n",
       "<p>13341 rows × 23 columns</p>\n",
       "</div>"
      ],
      "text/plain": [
       "       total_images  last_price  total_area first_day_exposition  rooms  \\\n",
       "0                 7     3350000        40.0  2018-12-04 00:00:00      1   \n",
       "1                10     5196000        56.0  2015-08-20 00:00:00      2   \n",
       "2                 0    64900000       159.0  2015-07-24 00:00:00      3   \n",
       "3                 2    10000000       100.0  2018-06-19 00:00:00      2   \n",
       "4                 6     3700000        37.0  2017-11-02 00:00:00      1   \n",
       "...             ...         ...         ...                  ...    ...   \n",
       "15770            13     3550000        35.0  2018-02-28 00:00:00      1   \n",
       "15771             3     5500000        52.0  2018-07-19 00:00:00      2   \n",
       "15772            11     9470000        73.0  2016-10-13 00:00:00      2   \n",
       "15773             9     4600000        62.0  2016-08-05 00:00:00      3   \n",
       "15774            13    11475000        77.0  2017-03-28 00:00:00      2   \n",
       "\n",
       "       ceiling_height  floors_total  living_area  floor is_apartment  ...  \\\n",
       "0                 3.0            11         19.0      1               ...   \n",
       "1                 3.0             5         34.0      4               ...   \n",
       "2                 3.0            14         47.0      9               ...   \n",
       "3                 3.0            14         32.0     13               ...   \n",
       "4                 3.0            26         11.0      6               ...   \n",
       "...               ...           ...          ...    ...          ...  ...   \n",
       "15770             3.0            15         16.0      4               ...   \n",
       "15771             3.0             5         31.0      2               ...   \n",
       "15772             3.0            25         40.0      7               ...   \n",
       "15773             3.0             9         40.0      8               ...   \n",
       "15774             3.0            17         32.0     12               ...   \n",
       "\n",
       "      balcony      locality_name  airports_nearest  cityCenters_nearest  \\\n",
       "0         2.0     посёлок Шушары           12817.0              18603.0   \n",
       "1         0.0    Санкт-Петербург           21741.0              13933.0   \n",
       "2         0.0    Санкт-Петербург           28098.0               6800.0   \n",
       "3         0.0    Санкт-Петербург           31856.0               8098.0   \n",
       "4         1.0  посёлок Парголово           52996.0              19143.0   \n",
       "...       ...                ...               ...                  ...   \n",
       "15770     2.0    Санкт-Петербург           17284.0              16081.0   \n",
       "15771     0.0    Санкт-Петербург           20151.0               6263.0   \n",
       "15772     1.0    Санкт-Петербург           19424.0               4489.0   \n",
       "15773     0.0           Петергоф           45602.0              34104.0   \n",
       "15774     2.0    Санкт-Петербург           39140.0              10364.0   \n",
       "\n",
       "      parks_around3000  parks_nearest  ponds_around3000  ponds_nearest  \\\n",
       "0                  0.0            NaN               0.0            NaN   \n",
       "1                  1.0           90.0               2.0          574.0   \n",
       "2                  2.0           84.0               3.0          234.0   \n",
       "3                  2.0          112.0               1.0           48.0   \n",
       "4                  0.0            NaN               0.0            NaN   \n",
       "...                ...            ...               ...            ...   \n",
       "15770              1.0          353.0               2.0          652.0   \n",
       "15771              1.0          300.0               0.0            NaN   \n",
       "15772              0.0            NaN               1.0          806.0   \n",
       "15773              1.0          352.0               1.0          675.0   \n",
       "15774              2.0          173.0               3.0          196.0   \n",
       "\n",
       "       days_exposition  locality_name_correct  \n",
       "0                 81.0                 Шушары  \n",
       "1                558.0        Санкт-Петербург  \n",
       "2                424.0        Санкт-Петербург  \n",
       "3                121.0        Санкт-Петербург  \n",
       "4                155.0              Парголово  \n",
       "...                ...                    ...  \n",
       "15770             29.0        Санкт-Петербург  \n",
       "15771             15.0        Санкт-Петербург  \n",
       "15772            519.0        Санкт-Петербург  \n",
       "15773            239.0               Петергоф  \n",
       "15774            602.0        Санкт-Петербург  \n",
       "\n",
       "[13341 rows x 23 columns]"
      ]
     },
     "metadata": {},
     "output_type": "display_data"
    },
    {
     "name": "stdout",
     "output_type": "stream",
     "text": [
      "Количество строк: 13341\n",
      "\n",
      "Количество пропущенных значений: \n",
      "total_images                0\n",
      "last_price                  0\n",
      "total_area                  0\n",
      "first_day_exposition        0\n",
      "rooms                       0\n",
      "ceiling_height              0\n",
      "floors_total                0\n",
      "living_area                 0\n",
      "floor                       0\n",
      "is_apartment                0\n",
      "studio                      0\n",
      "open_plan                   0\n",
      "kitchen_area                0\n",
      "balcony                     0\n",
      "locality_name               0\n",
      "airports_nearest            0\n",
      "cityCenters_nearest         0\n",
      "parks_around3000            0\n",
      "parks_nearest            7501\n",
      "ponds_around3000            0\n",
      "ponds_nearest            6520\n",
      "days_exposition             0\n",
      "locality_name_correct       0\n",
      "dtype: int64\n",
      "\n",
      "Типы данных в столбцах: \n",
      "total_images               int64\n",
      "last_price                 int64\n",
      "total_area               float64\n",
      "first_day_exposition      object\n",
      "rooms                      int64\n",
      "ceiling_height           float64\n",
      "floors_total               int64\n",
      "living_area              float64\n",
      "floor                      int64\n",
      "is_apartment              object\n",
      "studio                    object\n",
      "open_plan                 object\n",
      "kitchen_area             float64\n",
      "balcony                  float64\n",
      "locality_name             object\n",
      "airports_nearest         float64\n",
      "cityCenters_nearest      float64\n",
      "parks_around3000         float64\n",
      "parks_nearest            float64\n",
      "ponds_around3000         float64\n",
      "ponds_nearest            float64\n",
      "days_exposition          float64\n",
      "locality_name_correct     object\n",
      "dtype: object\n",
      "\n",
      "Количество дубликатов: \n",
      "0\n"
     ]
    },
    {
     "data": {
      "text/plain": [
       "<function __main__.df_info(df)>"
      ]
     },
     "execution_count": 77,
     "metadata": {},
     "output_type": "execute_result"
    }
   ],
   "source": [
    "df_info(data)"
   ]
  },
  {
   "cell_type": "markdown",
   "id": "e34fe7de",
   "metadata": {},
   "source": [
    "## Категоризуем данные"
   ]
  },
  {
   "cell_type": "markdown",
   "id": "6ab5b4de",
   "metadata": {},
   "source": [
    "*Добавляем столбец тип этажа квартиры, по категориям - первый, последний, другой*"
   ]
  },
  {
   "cell_type": "code",
   "execution_count": 78,
   "id": "dde1a68a",
   "metadata": {},
   "outputs": [],
   "source": [
    "def floor_type(row):\n",
    "        if row['floor'] == 1:\n",
    "            return 'первый'\n",
    "        if row['floor'] == row['floors_total']:\n",
    "            return 'последний'\n",
    "        else:\n",
    "            return 'другой'\n",
    "data['floor_type'] = data.apply(floor_type, axis=1)"
   ]
  },
  {
   "cell_type": "markdown",
   "id": "bd2c7549",
   "metadata": {},
   "source": [
    "*Считаем цену одного квадратного метра*"
   ]
  },
  {
   "cell_type": "code",
   "execution_count": 79,
   "id": "b69e857e",
   "metadata": {},
   "outputs": [],
   "source": [
    "data['price_one_metr'] = (data.last_price / data.total_area).round()"
   ]
  },
  {
   "cell_type": "markdown",
   "id": "f5b91e57",
   "metadata": {},
   "source": [
    "*Добавляем день недели публикации обьявление, где день обозначен цифрами*"
   ]
  },
  {
   "cell_type": "code",
   "execution_count": 81,
   "id": "f4e1b8aa",
   "metadata": {},
   "outputs": [],
   "source": [
    "data['day_of_publication'] = pd.to_datetime(data['first_day_exposition'], errors='coerce').dt.dayofweek"
   ]
  },
  {
   "cell_type": "markdown",
   "id": "1afc4dba",
   "metadata": {},
   "source": [
    "*Добавляем месяц публикации обьявления*"
   ]
  },
  {
   "cell_type": "code",
   "execution_count": 82,
   "id": "8f12ceb4",
   "metadata": {},
   "outputs": [],
   "source": [
    "data['month_of_publication'] = pd.to_datetime(data['first_day_exposition'], errors='coerce').dt.month"
   ]
  },
  {
   "cell_type": "markdown",
   "id": "8c193f32",
   "metadata": {},
   "source": [
    "*Добавляем год публикации обьявления*"
   ]
  },
  {
   "cell_type": "code",
   "execution_count": 84,
   "id": "10fb504a",
   "metadata": {},
   "outputs": [],
   "source": [
    "data['year_of_publication'] = pd.to_datetime(data['first_day_exposition'], errors='coerce').dt.year"
   ]
  },
  {
   "cell_type": "markdown",
   "id": "cadb7346",
   "metadata": {},
   "source": [
    "*Переведем расстояние до центра городи из м в км и округлим*"
   ]
  },
  {
   "cell_type": "code",
   "execution_count": 85,
   "id": "d52d4d23",
   "metadata": {},
   "outputs": [],
   "source": [
    "data['cityCenters_nearest_km'] = (data['cityCenters_nearest']/1000).round()"
   ]
  },
  {
   "cell_type": "code",
   "execution_count": 86,
   "id": "3855d799",
   "metadata": {},
   "outputs": [
    {
     "data": {
      "text/html": [
       "<div>\n",
       "<style scoped>\n",
       "    .dataframe tbody tr th:only-of-type {\n",
       "        vertical-align: middle;\n",
       "    }\n",
       "\n",
       "    .dataframe tbody tr th {\n",
       "        vertical-align: top;\n",
       "    }\n",
       "\n",
       "    .dataframe thead th {\n",
       "        text-align: right;\n",
       "    }\n",
       "</style>\n",
       "<table border=\"1\" class=\"dataframe\">\n",
       "  <thead>\n",
       "    <tr style=\"text-align: right;\">\n",
       "      <th></th>\n",
       "      <th>total_images</th>\n",
       "      <th>last_price</th>\n",
       "      <th>total_area</th>\n",
       "      <th>first_day_exposition</th>\n",
       "      <th>rooms</th>\n",
       "      <th>ceiling_height</th>\n",
       "      <th>floors_total</th>\n",
       "      <th>living_area</th>\n",
       "      <th>floor</th>\n",
       "      <th>is_apartment</th>\n",
       "      <th>...</th>\n",
       "      <th>ponds_around3000</th>\n",
       "      <th>ponds_nearest</th>\n",
       "      <th>days_exposition</th>\n",
       "      <th>locality_name_correct</th>\n",
       "      <th>floor_type</th>\n",
       "      <th>price_one_metr</th>\n",
       "      <th>day_of_publication</th>\n",
       "      <th>month_of_publication</th>\n",
       "      <th>year_of_publication</th>\n",
       "      <th>cityCenters_nearest_km</th>\n",
       "    </tr>\n",
       "  </thead>\n",
       "  <tbody>\n",
       "    <tr>\n",
       "      <th>0</th>\n",
       "      <td>7</td>\n",
       "      <td>3350000</td>\n",
       "      <td>40.0</td>\n",
       "      <td>2018-12-04 00:00:00</td>\n",
       "      <td>1</td>\n",
       "      <td>3.0</td>\n",
       "      <td>11</td>\n",
       "      <td>19.0</td>\n",
       "      <td>1</td>\n",
       "      <td></td>\n",
       "      <td>...</td>\n",
       "      <td>0.0</td>\n",
       "      <td>NaN</td>\n",
       "      <td>81.0</td>\n",
       "      <td>Шушары</td>\n",
       "      <td>первый</td>\n",
       "      <td>83750.0</td>\n",
       "      <td>1</td>\n",
       "      <td>12</td>\n",
       "      <td>2018</td>\n",
       "      <td>19.0</td>\n",
       "    </tr>\n",
       "    <tr>\n",
       "      <th>1</th>\n",
       "      <td>10</td>\n",
       "      <td>5196000</td>\n",
       "      <td>56.0</td>\n",
       "      <td>2015-08-20 00:00:00</td>\n",
       "      <td>2</td>\n",
       "      <td>3.0</td>\n",
       "      <td>5</td>\n",
       "      <td>34.0</td>\n",
       "      <td>4</td>\n",
       "      <td></td>\n",
       "      <td>...</td>\n",
       "      <td>2.0</td>\n",
       "      <td>574.0</td>\n",
       "      <td>558.0</td>\n",
       "      <td>Санкт-Петербург</td>\n",
       "      <td>другой</td>\n",
       "      <td>92786.0</td>\n",
       "      <td>3</td>\n",
       "      <td>8</td>\n",
       "      <td>2015</td>\n",
       "      <td>14.0</td>\n",
       "    </tr>\n",
       "    <tr>\n",
       "      <th>2</th>\n",
       "      <td>0</td>\n",
       "      <td>64900000</td>\n",
       "      <td>159.0</td>\n",
       "      <td>2015-07-24 00:00:00</td>\n",
       "      <td>3</td>\n",
       "      <td>3.0</td>\n",
       "      <td>14</td>\n",
       "      <td>47.0</td>\n",
       "      <td>9</td>\n",
       "      <td></td>\n",
       "      <td>...</td>\n",
       "      <td>3.0</td>\n",
       "      <td>234.0</td>\n",
       "      <td>424.0</td>\n",
       "      <td>Санкт-Петербург</td>\n",
       "      <td>другой</td>\n",
       "      <td>408176.0</td>\n",
       "      <td>4</td>\n",
       "      <td>7</td>\n",
       "      <td>2015</td>\n",
       "      <td>7.0</td>\n",
       "    </tr>\n",
       "    <tr>\n",
       "      <th>3</th>\n",
       "      <td>2</td>\n",
       "      <td>10000000</td>\n",
       "      <td>100.0</td>\n",
       "      <td>2018-06-19 00:00:00</td>\n",
       "      <td>2</td>\n",
       "      <td>3.0</td>\n",
       "      <td>14</td>\n",
       "      <td>32.0</td>\n",
       "      <td>13</td>\n",
       "      <td></td>\n",
       "      <td>...</td>\n",
       "      <td>1.0</td>\n",
       "      <td>48.0</td>\n",
       "      <td>121.0</td>\n",
       "      <td>Санкт-Петербург</td>\n",
       "      <td>другой</td>\n",
       "      <td>100000.0</td>\n",
       "      <td>1</td>\n",
       "      <td>6</td>\n",
       "      <td>2018</td>\n",
       "      <td>8.0</td>\n",
       "    </tr>\n",
       "    <tr>\n",
       "      <th>4</th>\n",
       "      <td>6</td>\n",
       "      <td>3700000</td>\n",
       "      <td>37.0</td>\n",
       "      <td>2017-11-02 00:00:00</td>\n",
       "      <td>1</td>\n",
       "      <td>3.0</td>\n",
       "      <td>26</td>\n",
       "      <td>11.0</td>\n",
       "      <td>6</td>\n",
       "      <td></td>\n",
       "      <td>...</td>\n",
       "      <td>0.0</td>\n",
       "      <td>NaN</td>\n",
       "      <td>155.0</td>\n",
       "      <td>Парголово</td>\n",
       "      <td>другой</td>\n",
       "      <td>100000.0</td>\n",
       "      <td>3</td>\n",
       "      <td>11</td>\n",
       "      <td>2017</td>\n",
       "      <td>19.0</td>\n",
       "    </tr>\n",
       "  </tbody>\n",
       "</table>\n",
       "<p>5 rows × 29 columns</p>\n",
       "</div>"
      ],
      "text/plain": [
       "   total_images  last_price  total_area first_day_exposition  rooms  \\\n",
       "0             7     3350000        40.0  2018-12-04 00:00:00      1   \n",
       "1            10     5196000        56.0  2015-08-20 00:00:00      2   \n",
       "2             0    64900000       159.0  2015-07-24 00:00:00      3   \n",
       "3             2    10000000       100.0  2018-06-19 00:00:00      2   \n",
       "4             6     3700000        37.0  2017-11-02 00:00:00      1   \n",
       "\n",
       "   ceiling_height  floors_total  living_area  floor is_apartment  ...  \\\n",
       "0             3.0            11         19.0      1               ...   \n",
       "1             3.0             5         34.0      4               ...   \n",
       "2             3.0            14         47.0      9               ...   \n",
       "3             3.0            14         32.0     13               ...   \n",
       "4             3.0            26         11.0      6               ...   \n",
       "\n",
       "  ponds_around3000 ponds_nearest  days_exposition  locality_name_correct  \\\n",
       "0              0.0           NaN             81.0                 Шушары   \n",
       "1              2.0         574.0            558.0        Санкт-Петербург   \n",
       "2              3.0         234.0            424.0        Санкт-Петербург   \n",
       "3              1.0          48.0            121.0        Санкт-Петербург   \n",
       "4              0.0           NaN            155.0              Парголово   \n",
       "\n",
       "  floor_type  price_one_metr  day_of_publication  month_of_publication  \\\n",
       "0     первый         83750.0                   1                    12   \n",
       "1     другой         92786.0                   3                     8   \n",
       "2     другой        408176.0                   4                     7   \n",
       "3     другой        100000.0                   1                     6   \n",
       "4     другой        100000.0                   3                    11   \n",
       "\n",
       "   year_of_publication  cityCenters_nearest_km  \n",
       "0                 2018                    19.0  \n",
       "1                 2015                    14.0  \n",
       "2                 2015                     7.0  \n",
       "3                 2018                     8.0  \n",
       "4                 2017                    19.0  \n",
       "\n",
       "[5 rows x 29 columns]"
      ]
     },
     "execution_count": 86,
     "metadata": {},
     "output_type": "execute_result"
    }
   ],
   "source": [
    "data.head()"
   ]
  },
  {
   "cell_type": "markdown",
   "id": "3bb2fdfd",
   "metadata": {},
   "source": [
    "# Исследовательский анализ данных"
   ]
  },
  {
   "cell_type": "markdown",
   "id": "fbba4d30",
   "metadata": {},
   "source": [
    "**Общая площадь**"
   ]
  },
  {
   "cell_type": "code",
   "execution_count": 90,
   "id": "78879fc5",
   "metadata": {},
   "outputs": [
    {
     "data": {
      "text/plain": [
       "count    13341.000000\n",
       "mean        60.992504\n",
       "std         27.980119\n",
       "min         16.000000\n",
       "25%         41.000000\n",
       "50%         54.000000\n",
       "75%         73.000000\n",
       "max        199.000000\n",
       "Name: total_area, dtype: float64"
      ]
     },
     "execution_count": 90,
     "metadata": {},
     "output_type": "execute_result"
    }
   ],
   "source": [
    "#Считаем показатели\n",
    "data['total_area'].describe()"
   ]
  },
  {
   "cell_type": "code",
   "execution_count": 117,
   "id": "61640e40",
   "metadata": {},
   "outputs": [
    {
     "data": {
      "text/plain": [
       "<AxesSubplot:>"
      ]
     },
     "execution_count": 117,
     "metadata": {},
     "output_type": "execute_result"
    },
    {
     "data": {
      "image/png": "[encoded data removed]",
      "text/plain": [
       "<Figure size 720x216 with 1 Axes>"
      ]
     },
     "metadata": {
      "needs_background": "light"
     },
     "output_type": "display_data"
    }
   ],
   "source": [
    "#Строим графики\n",
    "data.total_area.hist(bins=70, figsize=(10,3), ec='black')"
   ]
  },
  {
   "cell_type": "markdown",
   "id": "4ae42dcb",
   "metadata": {},
   "source": [
    "*Большая часть данных находится в диапазоне 30-70. Пик приходится на 35-40кв.м*"
   ]
  },
  {
   "cell_type": "markdown",
   "id": "d86df5e1",
   "metadata": {},
   "source": [
    "**Жилая площадь**"
   ]
  },
  {
   "cell_type": "code",
   "execution_count": 93,
   "id": "eca8e719",
   "metadata": {},
   "outputs": [
    {
     "data": {
      "text/plain": [
       "count    13341.000000\n",
       "mean        34.379132\n",
       "std         18.313451\n",
       "min          2.000000\n",
       "25%         19.000000\n",
       "50%         31.000000\n",
       "75%         44.000000\n",
       "max        164.000000\n",
       "Name: living_area, dtype: float64"
      ]
     },
     "execution_count": 93,
     "metadata": {},
     "output_type": "execute_result"
    }
   ],
   "source": [
    "#Считаем показатели\n",
    "data.living_area.describe()"
   ]
  },
  {
   "cell_type": "code",
   "execution_count": 118,
   "id": "20b5a6c1",
   "metadata": {},
   "outputs": [
    {
     "data": {
      "text/plain": [
       "<AxesSubplot:>"
      ]
     },
     "execution_count": 118,
     "metadata": {},
     "output_type": "execute_result"
    },
    {
     "data": {
      "image/png": "[encoded data removed]",
      "text/plain": [
       "<Figure size 720x216 with 1 Axes>"
      ]
     },
     "metadata": {
      "needs_background": "light"
     },
     "output_type": "display_data"
    }
   ],
   "source": [
    "#Строим графики\n",
    "data.living_area.hist(bins=70, figsize=(10,3), ec='black')"
   ]
  },
  {
   "cell_type": "markdown",
   "id": "03eeaded",
   "metadata": {},
   "source": [
    "*Больше всего квартир с площаью кухни 20-40кв/м*"
   ]
  },
  {
   "cell_type": "markdown",
   "id": "120ae468",
   "metadata": {},
   "source": [
    "**Площадь кухни**"
   ]
  },
  {
   "cell_type": "code",
   "execution_count": 96,
   "id": "4ff356e4",
   "metadata": {},
   "outputs": [
    {
     "data": {
      "text/plain": [
       "count    5433.000000\n",
       "mean       15.063501\n",
       "std         6.221179\n",
       "min        11.000000\n",
       "25%        11.000000\n",
       "50%        13.000000\n",
       "75%        16.000000\n",
       "max        93.000000\n",
       "Name: kitchen_area, dtype: float64"
      ]
     },
     "execution_count": 96,
     "metadata": {},
     "output_type": "execute_result"
    }
   ],
   "source": [
    "#Считаем показатели\n",
    "n_kitchen = data[data.kitchen_area > 10]\n",
    "n_kitchen.kitchen_area.describe()"
   ]
  },
  {
   "cell_type": "code",
   "execution_count": 125,
   "id": "1a84e62a",
   "metadata": {},
   "outputs": [
    {
     "data": {
      "text/plain": [
       "<AxesSubplot:>"
      ]
     },
     "execution_count": 125,
     "metadata": {},
     "output_type": "execute_result"
    },
    {
     "data": {
      "image/png": "[encoded data removed]",
      "text/plain": [
       "<Figure size 576x216 with 1 Axes>"
      ]
     },
     "metadata": {
      "needs_background": "light"
     },
     "output_type": "display_data"
    }
   ],
   "source": [
    "#Строим графики\n",
    "n_kitchen.kitchen_area.hist(bins=70, figsize=(8,3), ec='black')"
   ]
  },
  {
   "cell_type": "markdown",
   "id": "84ab463f",
   "metadata": {},
   "source": [
    "*В основном размер кухни варьируется в диапазоне 10-20м*"
   ]
  },
  {
   "cell_type": "markdown",
   "id": "abf57c6d",
   "metadata": {},
   "source": [
    "**Цена объекта**"
   ]
  },
  {
   "cell_type": "code",
   "execution_count": 98,
   "id": "bc0d44c3",
   "metadata": {},
   "outputs": [
    {
     "data": {
      "text/plain": [
       "count    1.334100e+04\n",
       "mean     6.900365e+06\n",
       "std      6.468739e+06\n",
       "min      1.350000e+06\n",
       "25%      4.000000e+06\n",
       "50%      5.300000e+06\n",
       "75%      7.600000e+06\n",
       "max      3.300000e+08\n",
       "Name: last_price, dtype: float64"
      ]
     },
     "execution_count": 98,
     "metadata": {},
     "output_type": "execute_result"
    }
   ],
   "source": [
    "#Считаем показатели\n",
    "data.last_price.describe()"
   ]
  },
  {
   "cell_type": "code",
   "execution_count": 99,
   "id": "b05407d3",
   "metadata": {},
   "outputs": [
    {
     "data": {
      "text/plain": [
       "count    12952.000000\n",
       "mean         6.176665\n",
       "std          3.127597\n",
       "min          2.050000\n",
       "25%          4.000000\n",
       "50%          5.200000\n",
       "75%          7.305000\n",
       "max         19.999000\n",
       "Name: last_price, dtype: float64"
      ]
     },
     "execution_count": 99,
     "metadata": {},
     "output_type": "execute_result"
    }
   ],
   "source": [
    "price = data[(data.last_price < 20000000) & (data.last_price > 2000000)]\n",
    "(price.last_price / 1000000).describe()"
   ]
  },
  {
   "cell_type": "code",
   "execution_count": 126,
   "id": "55e34746",
   "metadata": {},
   "outputs": [
    {
     "data": {
      "text/plain": [
       "<AxesSubplot:>"
      ]
     },
     "execution_count": 126,
     "metadata": {},
     "output_type": "execute_result"
    },
    {
     "data": {
      "image/png": "[encoded data removed]",
      "text/plain": [
       "<Figure size 720x216 with 1 Axes>"
      ]
     },
     "metadata": {
      "needs_background": "light"
     },
     "output_type": "display_data"
    }
   ],
   "source": [
    "#Строим график\n",
    "(price.last_price / 1000000).hist(bins=70, figsize=(10,3), ec='black')"
   ]
  },
  {
   "cell_type": "markdown",
   "id": "a329dc12",
   "metadata": {},
   "source": [
    "*Больше всего сделок проходили по ценам в диапазоне 2,5-7,5 миллионов, с пиков на 4-5,5 миллионов рублей*"
   ]
  },
  {
   "cell_type": "markdown",
   "id": "4f2fa927",
   "metadata": {},
   "source": [
    "**Количество комнат**"
   ]
  },
  {
   "cell_type": "code",
   "execution_count": 101,
   "id": "764b4d6b",
   "metadata": {},
   "outputs": [
    {
     "data": {
      "text/plain": [
       "count    13341.000000\n",
       "mean         2.059591\n",
       "std          1.017376\n",
       "min          0.000000\n",
       "25%          1.000000\n",
       "50%          2.000000\n",
       "75%          3.000000\n",
       "max         11.000000\n",
       "Name: rooms, dtype: float64"
      ]
     },
     "execution_count": 101,
     "metadata": {},
     "output_type": "execute_result"
    }
   ],
   "source": [
    "#Считаем показатели\n",
    "data.rooms.describe()"
   ]
  },
  {
   "cell_type": "code",
   "execution_count": 129,
   "id": "1ddcb9e9",
   "metadata": {},
   "outputs": [
    {
     "data": {
      "text/plain": [
       "<AxesSubplot:>"
      ]
     },
     "execution_count": 129,
     "metadata": {},
     "output_type": "execute_result"
    },
    {
     "data": {
      "image/png": "[encoded data removed]",
      "text/plain": [
       "<Figure size 720x216 with 1 Axes>"
      ]
     },
     "metadata": {
      "needs_background": "light"
     },
     "output_type": "display_data"
    }
   ],
   "source": [
    "#Строим график\n",
    "data.rooms.hist(figsize=(10,3), ec='black')"
   ]
  },
  {
   "cell_type": "markdown",
   "id": "859d6ba1",
   "metadata": {},
   "source": [
    "*Большинство в продаже 1-3 комнатных квартир.* "
   ]
  },
  {
   "cell_type": "markdown",
   "id": "f3d2822d",
   "metadata": {},
   "source": [
    "**Высота потолков**"
   ]
  },
  {
   "cell_type": "code",
   "execution_count": 103,
   "id": "08057f26",
   "metadata": {},
   "outputs": [
    {
     "data": {
      "text/plain": [
       "count    13341.000000\n",
       "mean         3.018364\n",
       "std          0.134270\n",
       "min          3.000000\n",
       "25%          3.000000\n",
       "50%          3.000000\n",
       "75%          3.000000\n",
       "max          4.000000\n",
       "Name: ceiling_height, dtype: float64"
      ]
     },
     "execution_count": 103,
     "metadata": {},
     "output_type": "execute_result"
    }
   ],
   "source": [
    "#Считаем показатели\n",
    "data.ceiling_height.describe()"
   ]
  },
  {
   "cell_type": "code",
   "execution_count": 132,
   "id": "728abb37",
   "metadata": {},
   "outputs": [
    {
     "data": {
      "text/plain": [
       "<AxesSubplot:>"
      ]
     },
     "execution_count": 132,
     "metadata": {},
     "output_type": "execute_result"
    },
    {
     "data": {
      "image/png": "[encoded data removed]",
      "text/plain": [
       "<Figure size 432x288 with 1 Axes>"
      ]
     },
     "metadata": {
      "needs_background": "light"
     },
     "output_type": "display_data"
    }
   ],
   "source": [
    "#Строим график\n",
    "data.ceiling_height.hist(ec='black')"
   ]
  },
  {
   "cell_type": "markdown",
   "id": "ddaade60",
   "metadata": {},
   "source": [
    "*Часто встречаемые значения в диапазоне 2,5-3 метра* "
   ]
  },
  {
   "cell_type": "markdown",
   "id": "0142374e",
   "metadata": {},
   "source": [
    "**Этаж квартиры**"
   ]
  },
  {
   "cell_type": "code",
   "execution_count": 105,
   "id": "b272c62f",
   "metadata": {},
   "outputs": [
    {
     "data": {
      "text/plain": [
       "count    13341.000000\n",
       "mean         6.358594\n",
       "std          5.008048\n",
       "min          1.000000\n",
       "25%          3.000000\n",
       "50%          5.000000\n",
       "75%          9.000000\n",
       "max         24.000000\n",
       "Name: floor, dtype: float64"
      ]
     },
     "execution_count": 105,
     "metadata": {},
     "output_type": "execute_result"
    }
   ],
   "source": [
    "#Считаем показатели\n",
    "data.floor.describe()"
   ]
  },
  {
   "cell_type": "code",
   "execution_count": 133,
   "id": "36498c01",
   "metadata": {},
   "outputs": [
    {
     "data": {
      "text/plain": [
       "<AxesSubplot:>"
      ]
     },
     "execution_count": 133,
     "metadata": {},
     "output_type": "execute_result"
    },
    {
     "data": {
      "image/png": "[encoded data removed]",
      "text/plain": [
       "<Figure size 720x216 with 1 Axes>"
      ]
     },
     "metadata": {
      "needs_background": "light"
     },
     "output_type": "display_data"
    }
   ],
   "source": [
    "#Строим график\n",
    "data.floor.hist(bins=70, figsize=(10,3), ec='black')"
   ]
  },
  {
   "cell_type": "markdown",
   "id": "bd12ef93",
   "metadata": {},
   "source": [
    "*Чаще продавались квартиры в диапазаоне 1-6 этажей* "
   ]
  },
  {
   "cell_type": "markdown",
   "id": "21516f60",
   "metadata": {},
   "source": [
    "**Тип этажа квартиры («первый», «последний», «другой»)**"
   ]
  },
  {
   "cell_type": "code",
   "execution_count": 135,
   "id": "09ec00dc",
   "metadata": {},
   "outputs": [
    {
     "data": {
      "text/plain": [
       "<AxesSubplot:>"
      ]
     },
     "execution_count": 135,
     "metadata": {},
     "output_type": "execute_result"
    },
    {
     "data": {
      "image/png": "[encoded data removed]",
      "text/plain": [
       "<Figure size 432x288 with 1 Axes>"
      ]
     },
     "metadata": {
      "needs_background": "light"
     },
     "output_type": "display_data"
    }
   ],
   "source": [
    "#Строим график\n",
    "data.floor_type.hist(ec='black')"
   ]
  },
  {
   "cell_type": "markdown",
   "id": "b2807b49",
   "metadata": {},
   "source": [
    "*Меньше всего продаж обьектов на первых и последних этажах зданий* "
   ]
  },
  {
   "cell_type": "markdown",
   "id": "e61df607",
   "metadata": {},
   "source": [
    "**Общее количество этажей в доме**"
   ]
  },
  {
   "cell_type": "code",
   "execution_count": 108,
   "id": "c60b6a99",
   "metadata": {},
   "outputs": [
    {
     "data": {
      "text/plain": [
       "count    13341.000000\n",
       "mean        11.749119\n",
       "std          6.744498\n",
       "min          1.000000\n",
       "25%          5.000000\n",
       "50%          9.000000\n",
       "75%         16.000000\n",
       "max         60.000000\n",
       "Name: floors_total, dtype: float64"
      ]
     },
     "execution_count": 108,
     "metadata": {},
     "output_type": "execute_result"
    }
   ],
   "source": [
    "#Считаем показатели\n",
    "data.floors_total.describe()"
   ]
  },
  {
   "cell_type": "code",
   "execution_count": 137,
   "id": "c3be1b4a",
   "metadata": {},
   "outputs": [
    {
     "data": {
      "text/plain": [
       "<AxesSubplot:>"
      ]
     },
     "execution_count": 137,
     "metadata": {},
     "output_type": "execute_result"
    },
    {
     "data": {
      "image/png": "[encoded data removed]",
      "text/plain": [
       "<Figure size 720x216 with 1 Axes>"
      ]
     },
     "metadata": {
      "needs_background": "light"
     },
     "output_type": "display_data"
    }
   ],
   "source": [
    "#Строим график\n",
    "data.floors_total.hist(figsize=(10,3), ec='black')"
   ]
  },
  {
   "cell_type": "markdown",
   "id": "4f1677c7",
   "metadata": {},
   "source": [
    "*Чаще всего покупают квартиры с 1 по 18 этажи.* "
   ]
  },
  {
   "cell_type": "markdown",
   "id": "c1a8c096",
   "metadata": {},
   "source": [
    "**Расстояние до центра города в метрах**"
   ]
  },
  {
   "cell_type": "code",
   "execution_count": 110,
   "id": "fbb85098",
   "metadata": {},
   "outputs": [
    {
     "data": {
      "text/plain": [
       "count    13341.000000\n",
       "mean     13967.593659\n",
       "std       8429.899168\n",
       "min        208.000000\n",
       "25%       8959.000000\n",
       "50%      12984.000000\n",
       "75%      16183.000000\n",
       "max      65968.000000\n",
       "Name: cityCenters_nearest, dtype: float64"
      ]
     },
     "execution_count": 110,
     "metadata": {},
     "output_type": "execute_result"
    }
   ],
   "source": [
    "#Считаем показатели\n",
    "data.cityCenters_nearest.describe()"
   ]
  },
  {
   "cell_type": "code",
   "execution_count": 138,
   "id": "060fbf92",
   "metadata": {},
   "outputs": [
    {
     "data": {
      "text/plain": [
       "<AxesSubplot:>"
      ]
     },
     "execution_count": 138,
     "metadata": {},
     "output_type": "execute_result"
    },
    {
     "data": {
      "image/png": "[encoded data removed]",
      "text/plain": [
       "<Figure size 720x216 with 1 Axes>"
      ]
     },
     "metadata": {
      "needs_background": "light"
     },
     "output_type": "display_data"
    }
   ],
   "source": [
    "#Строим график\n",
    "data.cityCenters_nearest.hist(bins=70, figsize=(10,3), ec='black')"
   ]
  },
  {
   "cell_type": "markdown",
   "id": "b79f37bd",
   "metadata": {},
   "source": [
    "*Большее количество квартиры проданы в 8-20км от центра, в близи центра квартир продано двое меньше* "
   ]
  },
  {
   "cell_type": "markdown",
   "id": "5186598d",
   "metadata": {},
   "source": [
    "**Расстояние до ближайшего аэропорта**"
   ]
  },
  {
   "cell_type": "code",
   "execution_count": 112,
   "id": "bb1815e1",
   "metadata": {},
   "outputs": [
    {
     "data": {
      "text/plain": [
       "count    13341.000000\n",
       "mean     28520.284986\n",
       "std      12349.149477\n",
       "min          0.000000\n",
       "25%      18654.000000\n",
       "50%      26586.000000\n",
       "75%      36652.000000\n",
       "max      84869.000000\n",
       "Name: airports_nearest, dtype: float64"
      ]
     },
     "execution_count": 112,
     "metadata": {},
     "output_type": "execute_result"
    }
   ],
   "source": [
    "#Считаем показатели\n",
    "data.airports_nearest.describe()"
   ]
  },
  {
   "cell_type": "code",
   "execution_count": 139,
   "id": "14a44171",
   "metadata": {},
   "outputs": [
    {
     "data": {
      "text/plain": [
       "<AxesSubplot:>"
      ]
     },
     "execution_count": 139,
     "metadata": {},
     "output_type": "execute_result"
    },
    {
     "data": {
      "image/png": "[encoded data removed]",
      "text/plain": [
       "<Figure size 720x216 with 1 Axes>"
      ]
     },
     "metadata": {
      "needs_background": "light"
     },
     "output_type": "display_data"
    }
   ],
   "source": [
    "#Строим график\n",
    "data.airports_nearest.hist(bins=70, figsize=(10,3), ec='black')"
   ]
  },
  {
   "cell_type": "markdown",
   "id": "28afa78a",
   "metadata": {},
   "source": [
    "*Большее количество квартиры проданы в 10-40км от аэропорта, при этом вблизи аэропорта продано очень мало квартир* "
   ]
  },
  {
   "cell_type": "markdown",
   "id": "3a892fc4",
   "metadata": {},
   "source": [
    "**Расстояние до ближайшего парка**"
   ]
  },
  {
   "cell_type": "code",
   "execution_count": 114,
   "id": "dd0cdc7b",
   "metadata": {},
   "outputs": [
    {
     "data": {
      "text/plain": [
       "count    5840.000000\n",
       "mean      493.386301\n",
       "std       351.482251\n",
       "min         1.000000\n",
       "25%       284.000000\n",
       "50%       448.500000\n",
       "75%       614.000000\n",
       "max      2984.000000\n",
       "Name: parks_nearest, dtype: float64"
      ]
     },
     "execution_count": 114,
     "metadata": {},
     "output_type": "execute_result"
    }
   ],
   "source": [
    "#Считаем показатели\n",
    "data.parks_nearest.describe()"
   ]
  },
  {
   "cell_type": "code",
   "execution_count": 116,
   "id": "30928041",
   "metadata": {},
   "outputs": [
    {
     "data": {
      "text/plain": [
       "<AxesSubplot:>"
      ]
     },
     "execution_count": 116,
     "metadata": {},
     "output_type": "execute_result"
    },
    {
     "data": {
      "image/png": "[encoded data removed]",
      "text/plain": [
       "<Figure size 720x216 with 1 Axes>"
      ]
     },
     "metadata": {
      "needs_background": "light"
     },
     "output_type": "display_data"
    }
   ],
   "source": [
    "#Строим график\n",
    "data.parks_nearest.hist(bins=70, figsize=(10,3), ec='black')"
   ]
  },
  {
   "cell_type": "markdown",
   "id": "574130ef",
   "metadata": {},
   "source": [
    "*Большинство покупателей предпочитают брать квартиры вблизи парков* "
   ]
  },
  {
   "cell_type": "markdown",
   "id": "80136497",
   "metadata": {},
   "source": [
    "**День и месяц публикации объявления.**"
   ]
  },
  {
   "cell_type": "code",
   "execution_count": 140,
   "id": "767e60dc",
   "metadata": {},
   "outputs": [
    {
     "data": {
      "text/plain": [
       "count    13341.000000\n",
       "mean         2.587812\n",
       "std          1.771767\n",
       "min          0.000000\n",
       "25%          1.000000\n",
       "50%          3.000000\n",
       "75%          4.000000\n",
       "max          6.000000\n",
       "Name: day_of_publication, dtype: float64"
      ]
     },
     "execution_count": 140,
     "metadata": {},
     "output_type": "execute_result"
    }
   ],
   "source": [
    "#Считаем показатели\n",
    "data.day_of_publication.describe()"
   ]
  },
  {
   "cell_type": "code",
   "execution_count": 146,
   "id": "875b2971",
   "metadata": {},
   "outputs": [
    {
     "data": {
      "text/plain": [
       "<AxesSubplot:>"
      ]
     },
     "execution_count": 146,
     "metadata": {},
     "output_type": "execute_result"
    },
    {
     "data": {
      "image/png": "[encoded data removed]",
      "text/plain": [
       "<Figure size 720x216 with 1 Axes>"
      ]
     },
     "metadata": {
      "needs_background": "light"
     },
     "output_type": "display_data"
    }
   ],
   "source": [
    "#Строим график\n",
    "data.day_of_publication.hist(figsize=(10,3), ec='black')"
   ]
  },
  {
   "cell_type": "code",
   "execution_count": 142,
   "id": "5804e947",
   "metadata": {},
   "outputs": [
    {
     "data": {
      "text/plain": [
       "count    13341.000000\n",
       "mean         6.582265\n",
       "std          3.465151\n",
       "min          1.000000\n",
       "25%          3.000000\n",
       "50%          7.000000\n",
       "75%         10.000000\n",
       "max         12.000000\n",
       "Name: month_of_publication, dtype: float64"
      ]
     },
     "execution_count": 142,
     "metadata": {},
     "output_type": "execute_result"
    }
   ],
   "source": [
    "#Считаем показатели\n",
    "data.month_of_publication.describe()"
   ]
  },
  {
   "cell_type": "code",
   "execution_count": 148,
   "id": "111896ed",
   "metadata": {},
   "outputs": [
    {
     "data": {
      "text/plain": [
       "<AxesSubplot:>"
      ]
     },
     "execution_count": 148,
     "metadata": {},
     "output_type": "execute_result"
    },
    {
     "data": {
      "image/png": "[encoded data removed]",
      "text/plain": [
       "<Figure size 720x216 with 1 Axes>"
      ]
     },
     "metadata": {
      "needs_background": "light"
     },
     "output_type": "display_data"
    }
   ],
   "source": [
    "#Строим график\n",
    "data.month_of_publication.hist(figsize=(10,3), ec='black')"
   ]
  },
  {
   "cell_type": "markdown",
   "id": "292f2dde",
   "metadata": {},
   "source": [
    "*В выходные дни публикаций значительно меньше, чем в будни*\n",
    "\n",
    "*По месяцам чаще выкладывают в начале года, после чего идет ровный спад и потом такой же подьем на конец года. В зимнее время обьявления выкладывают чаще.* "
   ]
  },
  {
   "cell_type": "markdown",
   "id": "8755c03e",
   "metadata": {},
   "source": [
    "## Изучим как быстро продавались квартиры"
   ]
  },
  {
   "cell_type": "code",
   "execution_count": 149,
   "id": "9caae805",
   "metadata": {},
   "outputs": [
    {
     "data": {
      "text/plain": [
       "98.0"
      ]
     },
     "execution_count": 149,
     "metadata": {},
     "output_type": "execute_result"
    }
   ],
   "source": [
    "data.days_exposition.describe().round()\n",
    "data.days_exposition.median()"
   ]
  },
  {
   "cell_type": "code",
   "execution_count": 152,
   "id": "d2cc5e0f",
   "metadata": {},
   "outputs": [
    {
     "data": {
      "text/plain": [
       "<AxesSubplot:>"
      ]
     },
     "execution_count": 152,
     "metadata": {},
     "output_type": "execute_result"
    },
    {
     "data": {
      "image/png": "[encoded data removed]",
      "text/plain": [
       "<Figure size 720x216 with 1 Axes>"
      ]
     },
     "metadata": {
      "needs_background": "light"
     },
     "output_type": "display_data"
    }
   ],
   "source": [
    "data.days_exposition.hist(bins=40, figsize=(10,3), ec='black')"
   ]
  },
  {
   "cell_type": "markdown",
   "id": "3c3da777",
   "metadata": {},
   "source": [
    "### Вывод"
   ]
  },
  {
   "cell_type": "markdown",
   "id": "a50493f5",
   "metadata": {},
   "source": [
    "*В среднем продается квартира за 186 дней, но медиана на уровней 98 дней. Такой разброс появляется из-за долгих и необычно долгих продаж\n",
    "Большинство продаж приходится на первый месяц публикации, их и можно считать быстрой продажей.\n",
    "Более 200х дней можно считать долгой продажей,а вот больше 400 дней необычно долгой.*"
   ]
  },
  {
   "cell_type": "markdown",
   "id": "39776b0a",
   "metadata": {},
   "source": [
    "## Узнаем какие факторы больше всего влияют на общую (полную) стоимость объекта"
   ]
  },
  {
   "cell_type": "markdown",
   "id": "fb1510a3",
   "metadata": {},
   "source": [
    "### Определяем зависит ли цена от общей площади квартиры"
   ]
  },
  {
   "cell_type": "markdown",
   "id": "26aad40a",
   "metadata": {},
   "source": [
    "*Отбросим данные с ценой выше 80000000*"
   ]
  },
  {
   "cell_type": "code",
   "execution_count": 153,
   "id": "5f7f04d2",
   "metadata": {},
   "outputs": [],
   "source": [
    "data = data[data.last_price < 80000000]"
   ]
  },
  {
   "cell_type": "markdown",
   "id": "953c2560",
   "metadata": {},
   "source": [
    "*Считаем корреляцию и строим гистограмму*"
   ]
  },
  {
   "cell_type": "code",
   "execution_count": 154,
   "id": "84da2b81",
   "metadata": {},
   "outputs": [
    {
     "data": {
      "text/plain": [
       "0.7459158752085153"
      ]
     },
     "execution_count": 154,
     "metadata": {},
     "output_type": "execute_result"
    }
   ],
   "source": [
    "data.last_price.corr(data.total_area)"
   ]
  },
  {
   "cell_type": "code",
   "execution_count": 155,
   "id": "c599d60c",
   "metadata": {},
   "outputs": [
    {
     "data": {
      "text/plain": [
       "<AxesSubplot:xlabel='last_price', ylabel='total_area'>"
      ]
     },
     "execution_count": 155,
     "metadata": {},
     "output_type": "execute_result"
    },
    {
     "data": {
      "image/png": "[encoded data removed]",
      "text/plain": [
       "<Figure size 432x288 with 1 Axes>"
      ]
     },
     "metadata": {
      "needs_background": "light"
     },
     "output_type": "display_data"
    }
   ],
   "source": [
    "data.plot(x='last_price', y='total_area', kind='scatter', grid=True, alpha=0.1)"
   ]
  },
  {
   "cell_type": "code",
   "execution_count": 156,
   "id": "6aafb396",
   "metadata": {},
   "outputs": [
    {
     "data": {
      "text/plain": [
       "<AxesSubplot:xlabel='last_price'>"
      ]
     },
     "execution_count": 156,
     "metadata": {},
     "output_type": "execute_result"
    },
    {
     "data": {
      "image/png": "[encoded data removed]",
      "text/plain": [
       "<Figure size 432x288 with 1 Axes>"
      ]
     },
     "metadata": {
      "needs_background": "light"
     },
     "output_type": "display_data"
    }
   ],
   "source": [
    "data.groupby('last_price')['total_area'].mean().plot(grid=True)"
   ]
  },
  {
   "cell_type": "markdown",
   "id": "d0f8d2f2",
   "metadata": {},
   "source": [
    "*Корреляция цены от общей площади квартиры составила 0.74, что показывает положительную зависимость показателей. С увелечением площади квартиры увеличивается ее цена*"
   ]
  },
  {
   "cell_type": "markdown",
   "id": "11a2cf1b",
   "metadata": {},
   "source": [
    "### Определяем зависит ли цена от жилой площади квартиры"
   ]
  },
  {
   "cell_type": "markdown",
   "id": "78b2f78b",
   "metadata": {},
   "source": [
    "*Считаем корреляцию и строим гистограмму*"
   ]
  },
  {
   "cell_type": "code",
   "execution_count": 157,
   "id": "f7188c8e",
   "metadata": {},
   "outputs": [
    {
     "data": {
      "text/plain": [
       "0.6115734799847949"
      ]
     },
     "execution_count": 157,
     "metadata": {},
     "output_type": "execute_result"
    }
   ],
   "source": [
    "data.last_price.corr(data.living_area)"
   ]
  },
  {
   "cell_type": "code",
   "execution_count": 158,
   "id": "38a8a0b6",
   "metadata": {},
   "outputs": [
    {
     "data": {
      "text/plain": [
       "<AxesSubplot:xlabel='last_price', ylabel='living_area'>"
      ]
     },
     "execution_count": 158,
     "metadata": {},
     "output_type": "execute_result"
    },
    {
     "data": {
      "image/png": "[encoded data removed]",
      "text/plain": [
       "<Figure size 432x288 with 1 Axes>"
      ]
     },
     "metadata": {
      "needs_background": "light"
     },
     "output_type": "display_data"
    }
   ],
   "source": [
    "data.plot(x='last_price', y='living_area', kind='scatter', grid=True, alpha=0.1)"
   ]
  },
  {
   "cell_type": "code",
   "execution_count": 159,
   "id": "08a3dc08",
   "metadata": {},
   "outputs": [
    {
     "data": {
      "text/plain": [
       "<AxesSubplot:xlabel='last_price'>"
      ]
     },
     "execution_count": 159,
     "metadata": {},
     "output_type": "execute_result"
    },
    {
     "data": {
      "image/png": "[encoded data removed]",
      "text/plain": [
       "<Figure size 432x288 with 1 Axes>"
      ]
     },
     "metadata": {
      "needs_background": "light"
     },
     "output_type": "display_data"
    }
   ],
   "source": [
    "data.groupby('last_price')['living_area'].mean().plot(grid=True)"
   ]
  },
  {
   "cell_type": "markdown",
   "id": "35880b4e",
   "metadata": {},
   "source": [
    "*Корреляция цены от жилой площади составляет 0.61, что меньше корреляции от общей площади на 0.13. Но зависимость увеличение цены при этом сохраняется* "
   ]
  },
  {
   "cell_type": "markdown",
   "id": "f6dc5ec3",
   "metadata": {},
   "source": [
    "### Определяем зависит ли цена от площади кухни квартиры"
   ]
  },
  {
   "cell_type": "markdown",
   "id": "83a187f5",
   "metadata": {},
   "source": [
    "*Считаем корреляцию и строим гистограмму*"
   ]
  },
  {
   "cell_type": "code",
   "execution_count": 160,
   "id": "c4cf392c",
   "metadata": {},
   "outputs": [
    {
     "data": {
      "text/plain": [
       "0.5381481831506002"
      ]
     },
     "execution_count": 160,
     "metadata": {},
     "output_type": "execute_result"
    }
   ],
   "source": [
    "data.last_price.corr(data.kitchen_area)"
   ]
  },
  {
   "cell_type": "code",
   "execution_count": 161,
   "id": "75eff3f4",
   "metadata": {},
   "outputs": [
    {
     "data": {
      "text/plain": [
       "<AxesSubplot:xlabel='last_price', ylabel='kitchen_area'>"
      ]
     },
     "execution_count": 161,
     "metadata": {},
     "output_type": "execute_result"
    },
    {
     "data": {
      "image/png": "[encoded data removed]",
      "text/plain": [
       "<Figure size 432x288 with 1 Axes>"
      ]
     },
     "metadata": {
      "needs_background": "light"
     },
     "output_type": "display_data"
    }
   ],
   "source": [
    "data.plot(x='last_price', y='kitchen_area', kind='scatter', grid=True, alpha=0.1)"
   ]
  },
  {
   "cell_type": "code",
   "execution_count": 162,
   "id": "5412ae61",
   "metadata": {},
   "outputs": [
    {
     "data": {
      "text/plain": [
       "<AxesSubplot:xlabel='last_price'>"
      ]
     },
     "execution_count": 162,
     "metadata": {},
     "output_type": "execute_result"
    },
    {
     "data": {
      "image/png": "[encoded data removed]",
      "text/plain": [
       "<Figure size 432x288 with 1 Axes>"
      ]
     },
     "metadata": {
      "needs_background": "light"
     },
     "output_type": "display_data"
    }
   ],
   "source": [
    "data.groupby('last_price')['kitchen_area'].mean().plot(grid=True)"
   ]
  },
  {
   "cell_type": "markdown",
   "id": "4ecd859f",
   "metadata": {},
   "source": [
    "*Корреляция цены от площади кухни стала еще меньше - 0,54. Что говорит нам о слабой зависимости* "
   ]
  },
  {
   "cell_type": "markdown",
   "id": "440faa35",
   "metadata": {},
   "source": [
    "### Определяем зависит ли цена от количества комнат квартиры"
   ]
  },
  {
   "cell_type": "markdown",
   "id": "f76ec770",
   "metadata": {},
   "source": [
    "*Считаем корреляцию и строим гистограмму*"
   ]
  },
  {
   "cell_type": "code",
   "execution_count": 163,
   "id": "d0a247ed",
   "metadata": {},
   "outputs": [
    {
     "data": {
      "text/plain": [
       "0.47284752781301037"
      ]
     },
     "execution_count": 163,
     "metadata": {},
     "output_type": "execute_result"
    }
   ],
   "source": [
    "data.last_price.corr(data.rooms)"
   ]
  },
  {
   "cell_type": "code",
   "execution_count": 164,
   "id": "d064766a",
   "metadata": {},
   "outputs": [
    {
     "data": {
      "text/plain": [
       "<AxesSubplot:>"
      ]
     },
     "execution_count": 164,
     "metadata": {},
     "output_type": "execute_result"
    },
    {
     "data": {
      "image/png": "[encoded data removed]",
      "text/plain": [
       "<Figure size 432x288 with 1 Axes>"
      ]
     },
     "metadata": {
      "needs_background": "light"
     },
     "output_type": "display_data"
    }
   ],
   "source": [
    "data.groupby('last_price')['rooms'].mean().hist(grid=True)"
   ]
  },
  {
   "cell_type": "markdown",
   "id": "7350022b",
   "metadata": {},
   "source": [
    "*Корреляция цены от количества комнат - 0,47, что говорит зависимости практически нет. Зависимость видна только при покупке 1-3х квартир* "
   ]
  },
  {
   "cell_type": "markdown",
   "id": "051866bd",
   "metadata": {},
   "source": [
    "### Определяем зависит ли цена от этажа на котором расположена квартира"
   ]
  },
  {
   "cell_type": "code",
   "execution_count": 165,
   "id": "44bb2b25",
   "metadata": {},
   "outputs": [
    {
     "data": {
      "text/plain": [
       "<AxesSubplot:xlabel='last_price', ylabel='floor_type'>"
      ]
     },
     "execution_count": 165,
     "metadata": {},
     "output_type": "execute_result"
    },
    {
     "data": {
      "image/png": "[encoded data removed]",
      "text/plain": [
       "<Figure size 432x288 with 1 Axes>"
      ]
     },
     "metadata": {
      "needs_background": "light"
     },
     "output_type": "display_data"
    }
   ],
   "source": [
    "data.plot(x='last_price', y='floor_type', kind='scatter', grid=True, alpha=0.1)"
   ]
  },
  {
   "cell_type": "markdown",
   "id": "843b05e8",
   "metadata": {},
   "source": [
    "*Дешевле всего стоя квартиры на первом этаже, затем на последнем* "
   ]
  },
  {
   "cell_type": "markdown",
   "id": "52e6c1c0",
   "metadata": {},
   "source": [
    "### Определяем зависит ли цена от дня, недели, месяца и года публикации"
   ]
  },
  {
   "cell_type": "code",
   "execution_count": 166,
   "id": "5a2f07a8",
   "metadata": {},
   "outputs": [
    {
     "data": {
      "text/plain": [
       "<AxesSubplot:>"
      ]
     },
     "execution_count": 166,
     "metadata": {},
     "output_type": "execute_result"
    },
    {
     "data": {
      "image/png": "[encoded data removed]",
      "text/plain": [
       "<Figure size 432x288 with 1 Axes>"
      ]
     },
     "metadata": {
      "needs_background": "light"
     },
     "output_type": "display_data"
    }
   ],
   "source": [
    "data.groupby('last_price')['day_of_publication'].mean().hist(grid=True)"
   ]
  },
  {
   "cell_type": "code",
   "execution_count": 167,
   "id": "5818e791",
   "metadata": {},
   "outputs": [
    {
     "data": {
      "text/plain": [
       "<AxesSubplot:xlabel='last_price', ylabel='day_of_publication'>"
      ]
     },
     "execution_count": 167,
     "metadata": {},
     "output_type": "execute_result"
    },
    {
     "data": {
      "image/png": "[encoded data removed]",
      "text/plain": [
       "<Figure size 432x288 with 1 Axes>"
      ]
     },
     "metadata": {
      "needs_background": "light"
     },
     "output_type": "display_data"
    }
   ],
   "source": [
    "data.plot(x='last_price', y='day_of_publication', kind='scatter', grid=True, alpha=0.1)"
   ]
  },
  {
   "cell_type": "code",
   "execution_count": 168,
   "id": "c091c4dc",
   "metadata": {},
   "outputs": [
    {
     "data": {
      "text/plain": [
       "<AxesSubplot:>"
      ]
     },
     "execution_count": 168,
     "metadata": {},
     "output_type": "execute_result"
    },
    {
     "data": {
      "image/png": "[encoded data removed]",
      "text/plain": [
       "<Figure size 432x288 with 1 Axes>"
      ]
     },
     "metadata": {
      "needs_background": "light"
     },
     "output_type": "display_data"
    }
   ],
   "source": [
    "data.groupby('last_price')['month_of_publication'].mean().hist(grid=True)"
   ]
  },
  {
   "cell_type": "code",
   "execution_count": 169,
   "id": "7745f062",
   "metadata": {},
   "outputs": [
    {
     "data": {
      "text/plain": [
       "<AxesSubplot:xlabel='last_price', ylabel='day_of_publication'>"
      ]
     },
     "execution_count": 169,
     "metadata": {},
     "output_type": "execute_result"
    },
    {
     "data": {
      "image/png": "[encoded data removed]",
      "text/plain": [
       "<Figure size 432x288 with 1 Axes>"
      ]
     },
     "metadata": {
      "needs_background": "light"
     },
     "output_type": "display_data"
    }
   ],
   "source": [
    "data.plot(x='last_price', y='day_of_publication', kind='scatter', grid=True, alpha=0.1)"
   ]
  },
  {
   "cell_type": "code",
   "execution_count": 170,
   "id": "d1c7e5a6",
   "metadata": {},
   "outputs": [
    {
     "data": {
      "text/plain": [
       "<AxesSubplot:>"
      ]
     },
     "execution_count": 170,
     "metadata": {},
     "output_type": "execute_result"
    },
    {
     "data": {
      "image/png": "[encoded data removed]",
      "text/plain": [
       "<Figure size 432x288 with 1 Axes>"
      ]
     },
     "metadata": {
      "needs_background": "light"
     },
     "output_type": "display_data"
    }
   ],
   "source": [
    "data.groupby('last_price')['year_of_publication'].mean().hist(grid=True)"
   ]
  },
  {
   "cell_type": "code",
   "execution_count": 171,
   "id": "479af41a",
   "metadata": {},
   "outputs": [
    {
     "data": {
      "text/plain": [
       "<AxesSubplot:xlabel='last_price', ylabel='year_of_publication'>"
      ]
     },
     "execution_count": 171,
     "metadata": {},
     "output_type": "execute_result"
    },
    {
     "data": {
      "image/png": "[encoded data removed]",
      "text/plain": [
       "<Figure size 432x288 with 1 Axes>"
      ]
     },
     "metadata": {
      "needs_background": "light"
     },
     "output_type": "display_data"
    }
   ],
   "source": [
    "data.plot(x='last_price', y='year_of_publication', kind='scatter', grid=True, alpha=0.1)"
   ]
  },
  {
   "cell_type": "markdown",
   "id": "66553005",
   "metadata": {},
   "source": [
    "*Стоимость квартиры от дня и месяца публикации отсутсвует. По году публикации заметен всплеск в 2017 году,а так же чуть меньше в конце 2018 и начала 2019* "
   ]
  },
  {
   "cell_type": "markdown",
   "id": "311b425e",
   "metadata": {},
   "source": [
    "## Посчитаем среднюю цену одного квадратного метра в 10 населённых пунктах с наибольшим числом объявлений."
   ]
  },
  {
   "cell_type": "markdown",
   "id": "7fc4c59d",
   "metadata": {},
   "source": [
    "### Считаем количество обьявлений по населеным пунктам"
   ]
  },
  {
   "cell_type": "code",
   "execution_count": 173,
   "id": "677ea187",
   "metadata": {},
   "outputs": [],
   "source": [
    "count_local = data.locality_name_correct.value_counts()"
   ]
  },
  {
   "cell_type": "markdown",
   "id": "714eb1a6",
   "metadata": {},
   "source": [
    "### Считаем среднюю стоимость квадратного метра по населенным пунктам"
   ]
  },
  {
   "cell_type": "code",
   "execution_count": 174,
   "id": "3a0cd404",
   "metadata": {},
   "outputs": [],
   "source": [
    "price_local = data.groupby('locality_name_correct')['price_one_metr'].mean()"
   ]
  },
  {
   "cell_type": "markdown",
   "id": "11c6870b",
   "metadata": {},
   "source": [
    "### Обьеденяем полученные данные в один датафрейм"
   ]
  },
  {
   "cell_type": "code",
   "execution_count": 175,
   "id": "bc7764e9",
   "metadata": {},
   "outputs": [],
   "source": [
    "df = pd.concat([count_local, price_local], axis=1)"
   ]
  },
  {
   "cell_type": "code",
   "execution_count": 176,
   "id": "919875ca",
   "metadata": {},
   "outputs": [
    {
     "data": {
      "text/html": [
       "<div>\n",
       "<style scoped>\n",
       "    .dataframe tbody tr th:only-of-type {\n",
       "        vertical-align: middle;\n",
       "    }\n",
       "\n",
       "    .dataframe tbody tr th {\n",
       "        vertical-align: top;\n",
       "    }\n",
       "\n",
       "    .dataframe thead th {\n",
       "        text-align: right;\n",
       "    }\n",
       "</style>\n",
       "<table border=\"1\" class=\"dataframe\">\n",
       "  <thead>\n",
       "    <tr style=\"text-align: right;\">\n",
       "      <th></th>\n",
       "      <th>locality_name_correct</th>\n",
       "      <th>price_one_metr</th>\n",
       "    </tr>\n",
       "  </thead>\n",
       "  <tbody>\n",
       "    <tr>\n",
       "      <th>Санкт-Петербург</th>\n",
       "      <td>11510</td>\n",
       "      <td>112224.460382</td>\n",
       "    </tr>\n",
       "    <tr>\n",
       "      <th>Шушары</th>\n",
       "      <td>374</td>\n",
       "      <td>77731.628342</td>\n",
       "    </tr>\n",
       "    <tr>\n",
       "      <th>Парголово</th>\n",
       "      <td>269</td>\n",
       "      <td>89563.524164</td>\n",
       "    </tr>\n",
       "    <tr>\n",
       "      <th>Пушкин</th>\n",
       "      <td>235</td>\n",
       "      <td>104226.553191</td>\n",
       "    </tr>\n",
       "    <tr>\n",
       "      <th>Колпино</th>\n",
       "      <td>213</td>\n",
       "      <td>74740.093897</td>\n",
       "    </tr>\n",
       "    <tr>\n",
       "      <th>Сестрорецк</th>\n",
       "      <td>140</td>\n",
       "      <td>102523.392857</td>\n",
       "    </tr>\n",
       "    <tr>\n",
       "      <th>Петергоф</th>\n",
       "      <td>137</td>\n",
       "      <td>84345.058394</td>\n",
       "    </tr>\n",
       "    <tr>\n",
       "      <th>Красное Село</th>\n",
       "      <td>125</td>\n",
       "      <td>71445.064000</td>\n",
       "    </tr>\n",
       "    <tr>\n",
       "      <th>Ломоносов</th>\n",
       "      <td>80</td>\n",
       "      <td>70547.887500</td>\n",
       "    </tr>\n",
       "    <tr>\n",
       "      <th>Кронштадт</th>\n",
       "      <td>65</td>\n",
       "      <td>79014.276923</td>\n",
       "    </tr>\n",
       "  </tbody>\n",
       "</table>\n",
       "</div>"
      ],
      "text/plain": [
       "                 locality_name_correct  price_one_metr\n",
       "Санкт-Петербург                  11510   112224.460382\n",
       "Шушары                             374    77731.628342\n",
       "Парголово                          269    89563.524164\n",
       "Пушкин                             235   104226.553191\n",
       "Колпино                            213    74740.093897\n",
       "Сестрорецк                         140   102523.392857\n",
       "Петергоф                           137    84345.058394\n",
       "Красное Село                       125    71445.064000\n",
       "Ломоносов                           80    70547.887500\n",
       "Кронштадт                           65    79014.276923"
      ]
     },
     "execution_count": 176,
     "metadata": {},
     "output_type": "execute_result"
    }
   ],
   "source": [
    "df.head(10)"
   ]
  },
  {
   "cell_type": "markdown",
   "id": "ab6df84d",
   "metadata": {},
   "source": [
    "*Самые дорогие квартиры в Санкт-Петербурге, самые дешевые в Кронштадте*"
   ]
  },
  {
   "cell_type": "markdown",
   "id": "671025d5",
   "metadata": {},
   "source": [
    "## Вычислим среднюю цену каждого километра"
   ]
  },
  {
   "cell_type": "markdown",
   "id": "06499f8f",
   "metadata": {},
   "source": [
    "### Отбираем квартиры в Санкт-Петербурге"
   ]
  },
  {
   "cell_type": "code",
   "execution_count": 177,
   "id": "4215e324",
   "metadata": {},
   "outputs": [],
   "source": [
    "city_peterburg = data[data['locality_name'] == 'Санкт-Петербург']"
   ]
  },
  {
   "cell_type": "markdown",
   "id": "007a0075",
   "metadata": {},
   "source": [
    "### Счаитем цену каждого киллометра от центра"
   ]
  },
  {
   "cell_type": "code",
   "execution_count": 178,
   "id": "6bb97d9a",
   "metadata": {},
   "outputs": [
    {
     "data": {
      "text/plain": [
       "cityCenters_nearest_km\n",
       "0.0     19.010743\n",
       "1.0     12.159479\n",
       "2.0     12.233578\n",
       "3.0      9.481779\n",
       "4.0     10.344684\n",
       "5.0     11.084304\n",
       "6.0     11.819302\n",
       "7.0     12.862838\n",
       "8.0      8.824816\n",
       "9.0      6.885488\n",
       "10.0     6.314871\n",
       "11.0     6.155678\n",
       "12.0     5.739755\n",
       "13.0     6.036591\n",
       "14.0     5.533705\n",
       "15.0     5.741892\n",
       "16.0     5.381201\n",
       "17.0     5.331317\n",
       "18.0     5.000731\n",
       "19.0     5.123571\n",
       "20.0     5.316839\n",
       "21.0     5.173193\n",
       "22.0     5.133619\n",
       "23.0     4.664737\n",
       "24.0     3.854430\n",
       "25.0     3.945577\n",
       "26.0     3.954359\n",
       "27.0     8.300000\n",
       "28.0     5.026429\n",
       "29.0     4.050000\n",
       "Name: last_price, dtype: float64"
      ]
     },
     "execution_count": 178,
     "metadata": {},
     "output_type": "execute_result"
    }
   ],
   "source": [
    "price_one_km = city_peterburg.groupby('cityCenters_nearest_km')['last_price'].mean() / 1000000\n",
    "price_one_km"
   ]
  },
  {
   "cell_type": "code",
   "execution_count": 182,
   "id": "b7ce37a4",
   "metadata": {},
   "outputs": [
    {
     "data": {
      "text/plain": [
       "<AxesSubplot:>"
      ]
     },
     "execution_count": 182,
     "metadata": {},
     "output_type": "execute_result"
    },
    {
     "data": {
      "image/png": "[encoded data removed]",
      "text/plain": [
       "<Figure size 720x216 with 1 Axes>"
      ]
     },
     "metadata": {
      "needs_background": "light"
     },
     "output_type": "display_data"
    }
   ],
   "source": [
    "price_one_km.hist(bins=50, figsize=(10,3), ec='black')"
   ]
  },
  {
   "cell_type": "markdown",
   "id": "1999b6f0",
   "metadata": {},
   "source": [
    "*В центре самые дорогие квартиры, в зависимости от расстояния до центра цена увеличивается. Ближайшие 7км самые дорогие квартиры. Затем цена распределяется не равномерно, где распределение цен зависит уже от популярности районов*"
   ]
  },
  {
   "cell_type": "markdown",
   "id": "dbbcdc96",
   "metadata": {},
   "source": [
    "# Общий вывод"
   ]
  },
  {
   "cell_type": "markdown",
   "id": "9d19452b",
   "metadata": {},
   "source": [
    "*На этапе предобработке данных мы исключили пропущенные значения на логично заменяемые, в каких то столбцах это были нули, а в каких то средние значения подсчитанные по категории другого столбца. Исключили из данных аномальные значений и выбросы, которые сильно искажали результаты. Удалили похожие названия из столбца с названием населенного пункта. Добавили новый столбец с категорией типа этажа. Посчитали новые метрики и для удобства вынесли в отдельный столбец день, месяц и год публикации.*\n",
    "\n",
    "*После чего перешли к исследованию данных. Определили, что чаще берут квартиры с общей площадью 30-70 кв/м, жилой площадью 20-40 кв/м и кухнями площадью 10-20кв/м. Увидели закономерность публикации обьявлений, где количество публикации в выходные дни значительно ниже, чем в будни. И виден пик публикаций на конец года и начала года. Чаще продавались квартиры вблизи парка и в центра, реже у аэропорта. Продаж на первых и последних этажах значительно меньше, при этом чаще покупали квартиры с 1 по 6 этаж,в 12ти этажных зданиях. Часто встречаемая высота потолков в квартире составила 2,5-3 метра. Большинство продано 1-3х комнатных квартир с суммой сделки 2,5-7,5 миллионов рублей.*\n",
    "\n",
    "*При подсчете завсимости формирования цены узнали:*\n",
    "- *корреляция от общей площади квартиры высокая и с увелечением площади квартиры увеличивается ее цена. При этом корреляция от жилой площади и площади кухни присутствует, но значительно ниже чем от общей площади.*\n",
    "- *при изученни корреляци цены от количества комнат увидели зависимость цены при продаже 1-3х квартир, но в целом корреляция низкая.*\n",
    "- *самые дешевые квартиры оказались на первом этаже, на последнем этаже цена незначительно выше.*\n",
    "- *корреляция цены от дня и месяца публикации отсутсвует. По году публикации заметен всплеск продаж в 2017 года и небольшой всплеск в конце 2018 и начала 2019 года.*\n",
    "\n",
    "*Подсчитав среднюю цену одного квадратного метра в 10 населенных пунктах с наибольшим число обьявлений определили, стоимость одного квадратного метра - на первом месте Санкт-Петербург, на 10м Кронштадт*\n",
    "\n",
    "*И в конце исследования посчитали среднюю стоимость каждого километра. Где увидели, что ближе к центру цена на квартиры возрастает. И в зависимости от расстояния до центра цена меняется, ближе к центру - дороже. Ближайшие 7км к центру самые дорогие квартиры. При этом после 7км закономерной зависимости образования цены не наблюдаются, скорее всего цена формируется по популярности отдаленых районов.*\n",
    "\n"
   ]
  }
 ],
 "metadata": {
  "kernelspec": {
   "display_name": "Python 3 (ipykernel)",
   "language": "python",
   "name": "python3"
  },
  "language_info": {
   "codemirror_mode": {
    "name": "ipython",
    "version": 3
   },
   "file_extension": ".py",
   "mimetype": "text/x-python",
   "name": "python",
   "nbconvert_exporter": "python",
   "pygments_lexer": "ipython3",
   "version": "3.10.6"
  },
  "toc": {
   "base_numbering": 1,
   "nav_menu": {},
   "number_sections": true,
   "sideBar": true,
   "skip_h1_title": false,
   "title_cell": "Содержание",
   "title_sidebar": "Содержание",
   "toc_cell": true,
   "toc_position": {},
   "toc_section_display": true,
   "toc_window_display": true
  }
 },
 "nbformat": 4,
 "nbformat_minor": 5
}
